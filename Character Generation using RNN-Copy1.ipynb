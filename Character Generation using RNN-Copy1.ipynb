{
 "cells": [
  {
   "cell_type": "code",
   "execution_count": 2,
   "metadata": {},
   "outputs": [],
   "source": [
    "import tensorflow as tf\n",
    "from tensorflow.contrib import rnn\n",
    "import numpy as np"
   ]
  },
  {
   "cell_type": "code",
   "execution_count": 3,
   "metadata": {},
   "outputs": [
    {
     "name": "stdout",
     "output_type": "stream",
     "text": [
      "3060\n",
      "38\n"
     ]
    }
   ],
   "source": [
    "inputTest = \"Lorem ipsum dolor sit amet, consectetur adipiscing elit. Sed tristique mattis suscipit. Sed suscipit tortor eros, ac feugiat felis sollicitudin et. Pellentesque nec malesuada nisi. Curabitur id neque turpis. In dictum, eros eget dictum semper, elit neque pharetra ex, in aliquam lorem tortor non nunc. Mauris accumsan fermentum ullamcorper. Aenean congue ligula finibus ligula finibus porttitor.Vestibulum finibus consectetur orci, ornare porttitor lorem pharetra in. Pellentesque et nibh ac augue gravida gravida. Vestibulum interdum augue sapien. Duis at placerat sapien, in vestibulum arcu. Pellentesque lacinia diam vel orci faucibus fringilla. Class aptent taciti sociosqu ad litora torquent per conubia nostra, per inceptos himenaeos. Vivamus eu porta dolor. Nulla facilisi. Interdum et malesuada fames ac ante ipsum primis in faucibus. Etiam venenatis dolor vitae est aliquam, a condimentum risus commodo. Nulla vel euismod neque, eu rutrum lectus.Aliquam condimentum aliquet tellus, et bibendum metus fringilla vitae. Sed tempor scelerisque dolor. Etiam laoreet elementum dolor in pharetra. In condimentum felis a cursus semper. Sed id magna posuere, malesuada dolor quis, malesuada orci. Proin ac auctor odio. Praesent vitae commodo turpis. Sed aliquam risus urna, dictum varius massa rhoncus scelerisque. Mauris nec tempus dui, porttitor varius risus. Phasellus nec arcu facilisis, lobortis erat luctus, faucibus erat. Sed velit quam, facilisis ut egestas in, sodales ut quam. Pellentesque aliquam eu neque sed fermentum. Quisque sed mattis arcu. Aliquam mattis eros a lacus semper porta nec ac nunc.Suspendisse felis lacus, fringilla vel pellentesque id, bibendum nec lorem. Mauris fermentum nisl sed purus blandit facilisis. Sed vulputate vitae velit rhoncus porta. Sed feugiat faucibus risus at ultrices. Suspendisse pellentesque tincidunt justo ac finibus. Donec volutpat ultricies arcu non facilisis. Aenean eget felis rutrum, laoreet nulla ut, rhoncus nulla. Curabitur scelerisque, tortor nec commodo aliquam, sem augue vulputate odio, non vehicula neque nulla quis dui. Morbi maximus lacus in libero dignissim laoreet. Duis at iaculis nibh, vel consectetur eros. Vivamus tincidunt mauris sit amet orci vestibulum luctus. Quisque tempor elit felis. Phasellus dictum faucibus est, quis feugiat nisl lobortis nec. Nulla facilisi. Donec eu sapien nec purus ultricies eleifend a vitae metus.Suspendisse ultricies tristique posuere. Proin convallis, tellus sed lacinia tincidunt, mi lectus fringilla ante, eu pretium nibh lorem non est. In scelerisque massa vel sodales lobortis. Mauris hendrerit libero ut velit dictum, quis sollicitudin arcu sodales. Ut ipsum diam, gravida eu rhoncus in, venenatis id nisl. Nulla sollicitudin feugiat tempus. Duis eget ligula aliquam arcu tristique molestie. In lacinia quam nisl. Cras finibus orci ac ex gravida, mollis varius odio eleifend. Curabitur et tincidunt lectus. Proin feugiat nibh turpis, non dignissim purus condimentum ut. Maecenas sed rhoncus nunc. Morbi fringilla laoreet neque, quis varius sapien\"\n",
    "#inputTest = \"Lorem\"\n",
    "data_size = len(inputTest)\n",
    "print(data_size)\n",
    "individualChars = list(set(inputTest))\n",
    "vocab_size = len(individualChars)\n",
    "print(vocab_size)\n",
    "num_hidden_units = 128"
   ]
  },
  {
   "cell_type": "code",
   "execution_count": 9,
   "metadata": {},
   "outputs": [
    {
     "name": "stdout",
     "output_type": "stream",
     "text": [
      "[0. 0. 0. 0. 0. 0. 0. 0. 0. 0. 0. 0. 0. 0. 0. 0. 0. 0. 0. 0. 0. 0. 0. 0.\n",
      " 0. 0. 0. 0. 0. 0. 0. 0. 0. 1. 0. 0. 0. 0.]\n",
      "(array([33]),)\n",
      "L\n",
      "[0. 0. 1. 0. 0. 0. 0. 0. 0. 0. 0. 0. 0. 0. 0. 0. 0. 0. 0. 0. 0. 0. 0. 0.\n",
      " 0. 0. 0. 0. 0. 0. 0. 0. 0. 0. 0. 0. 0. 0.]\n",
      "(array([2]),)\n",
      "o\n",
      "[0. 0. 0. 1. 0. 0. 0. 0. 0. 0. 0. 0. 0. 0. 0. 0. 0. 0. 0. 0. 0. 0. 0. 0.\n",
      " 0. 0. 0. 0. 0. 0. 0. 0. 0. 0. 0. 0. 0. 0.]\n",
      "(array([3]),)\n",
      "r\n",
      "[0. 0. 0. 0. 0. 0. 0. 0. 0. 0. 0. 1. 0. 0. 0. 0. 0. 0. 0. 0. 0. 0. 0. 0.\n",
      " 0. 0. 0. 0. 0. 0. 0. 0. 0. 0. 0. 0. 0. 0.]\n",
      "(array([11]),)\n",
      "e\n",
      "[0. 0. 0. 0. 0. 0. 0. 0. 0. 0. 0. 0. 0. 0. 0. 0. 0. 0. 0. 0. 0. 0. 0. 0.\n",
      " 0. 0. 0. 1. 0. 0. 0. 0. 0. 0. 0. 0. 0. 0.]\n",
      "(array([27]),)\n",
      "m\n",
      "[0. 0. 0. 0. 0. 0. 0. 0. 0. 0. 0. 0. 0. 0. 0. 0. 0. 0. 0. 0. 0. 0. 0. 0.\n",
      " 0. 0. 0. 0. 0. 0. 0. 0. 0. 0. 1. 0. 0. 0.]\n",
      "(array([34]),)\n",
      " \n",
      "[0. 0. 0. 0. 0. 0. 0. 0. 0. 0. 0. 0. 0. 0. 0. 0. 0. 0. 0. 0. 0. 0. 0. 0.\n",
      " 0. 0. 0. 0. 0. 0. 0. 0. 0. 0. 0. 1. 0. 0.]\n",
      "(array([35]),)\n",
      "i\n",
      "[0. 0. 0. 0. 0. 0. 0. 0. 0. 0. 0. 0. 0. 0. 0. 0. 0. 0. 0. 0. 0. 0. 0. 0.\n",
      " 0. 1. 0. 0. 0. 0. 0. 0. 0. 0. 0. 0. 0. 0.]\n",
      "(array([25]),)\n",
      "p\n",
      "[0. 0. 0. 0. 0. 0. 0. 0. 0. 0. 0. 0. 0. 0. 0. 0. 0. 0. 0. 0. 0. 0. 0. 0.\n",
      " 0. 0. 0. 0. 0. 0. 0. 1. 0. 0. 0. 0. 0. 0.]\n",
      "(array([31]),)\n",
      "s\n",
      "[0. 0. 0. 0. 0. 0. 0. 0. 0. 0. 0. 0. 0. 0. 0. 0. 0. 0. 1. 0. 0. 0. 0. 0.\n",
      " 0. 0. 0. 0. 0. 0. 0. 0. 0. 0. 0. 0. 0. 0.]\n",
      "(array([18]),)\n",
      "u\n",
      "[0. 0. 0. 0. 0. 0. 0. 0. 0. 0. 0. 0. 0. 0. 0. 0. 0. 0. 0. 0. 0. 0. 0. 0.\n",
      " 0. 0. 0. 1. 0. 0. 0. 0. 0. 0. 0. 0. 0. 0.]\n",
      "(array([27]),)\n",
      "m\n",
      "[0. 0. 0. 0. 0. 0. 0. 0. 0. 0. 0. 0. 0. 0. 0. 0. 0. 0. 0. 0. 0. 0. 0. 0.\n",
      " 0. 0. 0. 0. 0. 0. 0. 0. 0. 0. 1. 0. 0. 0.]\n",
      "(array([34]),)\n",
      " \n",
      "[0. 0. 0. 0. 0. 0. 0. 0. 0. 0. 0. 0. 0. 0. 0. 0. 0. 0. 0. 1. 0. 0. 0. 0.\n",
      " 0. 0. 0. 0. 0. 0. 0. 0. 0. 0. 0. 0. 0. 0.]\n",
      "(array([19]),)\n",
      "d\n",
      "[0. 0. 1. 0. 0. 0. 0. 0. 0. 0. 0. 0. 0. 0. 0. 0. 0. 0. 0. 0. 0. 0. 0. 0.\n",
      " 0. 0. 0. 0. 0. 0. 0. 0. 0. 0. 0. 0. 0. 0.]\n",
      "(array([2]),)\n",
      "o\n",
      "[0. 0. 0. 0. 0. 0. 0. 0. 0. 0. 0. 0. 0. 0. 0. 0. 0. 0. 0. 0. 0. 0. 0. 0.\n",
      " 1. 0. 0. 0. 0. 0. 0. 0. 0. 0. 0. 0. 0. 0.]\n",
      "(array([24]),)\n",
      "l\n"
     ]
    },
    {
     "data": {
      "text/plain": [
       "'\\nprint(one_word.shape)\\n    print(one_word[0])\\n    print(one_word[0].nonzero()[0])\\n    test = one_word[0].nonzero()[0]\\n    print(test[0])\\n    print(ix_to_char)\\n    print(ix_to_char[test[0]])\\n'"
      ]
     },
     "execution_count": 9,
     "metadata": {},
     "output_type": "execute_result"
    }
   ],
   "source": [
    "# Convert input into batches of seq len 15\n",
    "char_to_ix = {char: idx for idx, char in enumerate(individualChars)}\n",
    "ix_to_char = {idx : char for idx, char in enumerate(individualChars)}\n",
    "seq_len = 15\n",
    "length = 0\n",
    "data_set = []\n",
    "word = []\n",
    "while(length < data_size):\n",
    "    #print(\"line : \", inputTest[length])\n",
    "    charArray = np.zeros((vocab_size,1))\n",
    "    charArray[char_to_ix[inputTest[length]]] = 1\n",
    "    word.append(charArray)\n",
    "    length += 1\n",
    "#print(len(word))\n"
   ]
  },
  {
   "cell_type": "code",
   "execution_count": 188,
   "metadata": {},
   "outputs": [],
   "source": []
  },
  {
   "cell_type": "code",
   "execution_count": 5,
   "metadata": {},
   "outputs": [
    {
     "ename": "NameError",
     "evalue": "name 'data' is not defined",
     "output_type": "error",
     "traceback": [
      "\u001b[0;31m---------------------------------------------------------------------------\u001b[0m",
      "\u001b[0;31mNameError\u001b[0m                                 Traceback (most recent call last)",
      "\u001b[0;32m<ipython-input-5-47828e1a9209>\u001b[0m in \u001b[0;36m<module>\u001b[0;34m()\u001b[0m\n\u001b[1;32m      1\u001b[0m \u001b[0mSEQ_LENGTH\u001b[0m \u001b[0;34m=\u001b[0m \u001b[0;36m15\u001b[0m\u001b[0;34m\u001b[0m\u001b[0m\n\u001b[1;32m      2\u001b[0m \u001b[0mVOCAB_SIZE\u001b[0m \u001b[0;34m=\u001b[0m \u001b[0;36m38\u001b[0m\u001b[0;34m\u001b[0m\u001b[0m\n\u001b[0;32m----> 3\u001b[0;31m \u001b[0mval\u001b[0m \u001b[0;34m=\u001b[0m \u001b[0mint\u001b[0m\u001b[0;34m(\u001b[0m\u001b[0mlen\u001b[0m\u001b[0;34m(\u001b[0m\u001b[0mdata\u001b[0m\u001b[0;34m)\u001b[0m\u001b[0;34m/\u001b[0m\u001b[0mSEQ_LENGTH\u001b[0m\u001b[0;34m)\u001b[0m\u001b[0;34m\u001b[0m\u001b[0m\n\u001b[0m\u001b[1;32m      4\u001b[0m \u001b[0mX\u001b[0m \u001b[0;34m=\u001b[0m \u001b[0mnp\u001b[0m\u001b[0;34m.\u001b[0m\u001b[0mzeros\u001b[0m\u001b[0;34m(\u001b[0m\u001b[0;34m(\u001b[0m\u001b[0mval\u001b[0m\u001b[0;34m,\u001b[0m \u001b[0mSEQ_LENGTH\u001b[0m\u001b[0;34m,\u001b[0m \u001b[0mVOCAB_SIZE\u001b[0m\u001b[0;34m)\u001b[0m\u001b[0;34m)\u001b[0m\u001b[0;34m\u001b[0m\u001b[0m\n\u001b[1;32m      5\u001b[0m \u001b[0my\u001b[0m \u001b[0;34m=\u001b[0m \u001b[0mnp\u001b[0m\u001b[0;34m.\u001b[0m\u001b[0mzeros\u001b[0m\u001b[0;34m(\u001b[0m\u001b[0;34m(\u001b[0m\u001b[0mval\u001b[0m\u001b[0;34m,\u001b[0m \u001b[0mSEQ_LENGTH\u001b[0m\u001b[0;34m,\u001b[0m \u001b[0mVOCAB_SIZE\u001b[0m\u001b[0;34m)\u001b[0m\u001b[0;34m)\u001b[0m\u001b[0;34m\u001b[0m\u001b[0m\n",
      "\u001b[0;31mNameError\u001b[0m: name 'data' is not defined"
     ]
    }
   ],
   "source": [
    "SEQ_LENGTH = 15\n",
    "VOCAB_SIZE = 38\n",
    "val = int(len(data)/SEQ_LENGTH)\n",
    "X = np.zeros((val, SEQ_LENGTH, VOCAB_SIZE))\n",
    "y = np.zeros((val, SEQ_LENGTH, VOCAB_SIZE))\n",
    "for i in range(0, val):\n",
    "    X_sequence = data[i*SEQ_LENGTH:(i+1)*SEQ_LENGTH]\n",
    "    X_sequence_ix = [char_to_ix[value] for value in X_sequence]\n",
    "    input_sequence = np.zeros((SEQ_LENGTH, VOCAB_SIZE))\n",
    "    for j in range(SEQ_LENGTH):\n",
    "        input_sequence[j][X_sequence_ix[j]] = 1.\n",
    "    X[i] = input_sequence\n",
    "\n",
    "    \n",
    "print(X.shape)"
   ]
  },
  {
   "cell_type": "code",
   "execution_count": null,
   "metadata": {},
   "outputs": [],
   "source": [
    "word = np.array(word)\n",
    "word = word.reshape(204,15,38)\n",
    "one_word = word[0]\n",
    "for characters in one_word:\n",
    "    print(characters)\n",
    "    print(characters.nonzero())\n",
    "    one_char = (characters.nonzero()[0])[0]\n",
    "    print(ix_to_char[one_char])\n",
    "'''\n",
    "print(one_word.shape)\n",
    "    print(one_word[0])\n",
    "    print(one_word[0].nonzero()[0])\n",
    "    test = one_word[0].nonzero()[0]\n",
    "    print(test[0])\n",
    "    print(ix_to_char)\n",
    "    print(ix_to_char[test[0]])\n",
    "'''"
   ]
  },
  {
   "cell_type": "code",
   "execution_count": 200,
   "metadata": {},
   "outputs": [
    {
     "name": "stdout",
     "output_type": "stream",
     "text": [
      "L\n",
      "o\n",
      "r\n",
      "e\n",
      "m\n",
      " \n",
      "i\n",
      "p\n",
      "s\n",
      "u\n",
      "m\n",
      " \n",
      "d\n",
      "o\n",
      "l\n"
     ]
    }
   ],
   "source": [
    "word = []\n",
    "for data in data_set[0]:\n",
    "    for i in range(len(data)):\n",
    "        print(data[i])zzzzzzzzzzzzzzzzzzzzzzzzzzzzzzzzzzzzzzzzzzzzzzzzzzzzzzz\n",
    "       \n",
    "        #word.append(charArray)"
   ]
  },
  {
   "cell_type": "code",
   "execution_count": 200,
   "metadata": {},
   "outputs": [
    {
     "name": "stdout",
     "output_type": "stream",
     "text": [
      "L\n",
      "o\n",
      "r\n",
      "e\n",
      "m\n",
      " \n",
      "i\n",
      "p\n",
      "s\n",
      "u\n",
      "m\n",
      " \n",
      "d\n",
      "o\n",
      "l\n"
     ]
    }
   ],
   "source": [
    "word = []\n",
    "for data in data_set[0]:\n",
    "    for i in range(len(data)):\n",
    "        print(data[i])\n",
    "       \n",
    "        #word.append(charArray)"
   ]
  },
  {
   "cell_type": "code",
   "execution_count": 200,
   "metadata": {},
   "outputs": [
    {
     "name": "stdout",
     "output_type": "stream",
     "text": [
      "L\n",
      "o\n",
      "r\n",
      "e\n",
      "m\n",
      " \n",
      "i\n",
      "p\n",
      "s\n",
      "u\n",
      "m\n",
      " \n",
      "d\n",
      "o\n",
      "l\n"
     ]
    }
   ],
   "source": [
    "word = []\n",
    "for data in data_set[0]:\n",
    "    for i in range(len(data)):\n",
    "        print(data[i])\n",
    "       \n",
    "        #word.append(charArray)"
   ]
  },
  {
   "cell_type": "code",
   "execution_count": 200,
   "metadata": {},
   "outputs": [
    {
     "name": "stdout",
     "output_type": "stream",
     "text": [
      "L\n",
      "o\n",
      "r\n",
      "e\n",
      "m\n",
      " \n",
      "i\n",
      "p\n",
      "s\n",
      "u\n",
      "m\n",
      " \n",
      "d\n",
      "o\n",
      "l\n"
     ]
    }
   ],
   "source": [
    "word = []\n",
    "for data in data_set[0]:\n",
    "    for i in range(len(data)):\n",
    "        print(data[i])\n",
    "       \n",
    "        #word.append(charArray)"
   ]
  },
  {
   "cell_type": "code",
   "execution_count": 200,
   "metadata": {},
   "outputs": [
    {
     "name": "stdout",
     "output_type": "stream",
     "text": [
      "L\n",
      "o\n",
      "r\n",
      "e\n",
      "m\n",
      " \n",
      "i\n",
      "p\n",
      "s\n",
      "u\n",
      "m\n",
      " \n",
      "d\n",
      "o\n",
      "l\n"
     ]
    }
   ],
   "source": [
    "word = []\n",
    "for data in data_set[0]:\n",
    "    for i in range(len(data)):\n",
    "        print(data[i])\n",
    "       \n",
    "        #word.append(charArray)"
   ]
  },
  {
   "cell_type": "code",
   "execution_count": 200,
   "metadata": {},
   "outputs": [
    {
     "name": "stdout",
     "output_type": "stream",
     "text": [
      "L\n",
      "o\n",
      "r\n",
      "e\n",
      "m\n",
      " \n",
      "i\n",
      "p\n",
      "s\n",
      "u\n",
      "m\n",
      " \n",
      "d\n",
      "o\n",
      "l\n"
     ]
    }
   ],
   "source": [
    "word = []\n",
    "for data in data_set[0]:\n",
    "    for i in range(len(data)):\n",
    "        print(data[i])\n",
    "       \n",
    "        #word.append(charArray)"
   ]
  },
  {
   "cell_type": "code",
   "execution_count": 200,
   "metadata": {},
   "outputs": [
    {
     "name": "stdout",
     "output_type": "stream",
     "text": [
      "L\n",
      "o\n",
      "r\n",
      "e\n",
      "m\n",
      " \n",
      "i\n",
      "p\n",
      "s\n",
      "u\n",
      "m\n",
      " \n",
      "d\n",
      "o\n",
      "l\n"
     ]
    }
   ],
   "source": [
    "word = []\n",
    "for data in data_set[0]:\n",
    "    for i in range(len(data)):\n",
    "        print(data[i])\n",
    "       \n",
    "        #word.append(charArray)"
   ]
  },
  {
   "cell_type": "code",
   "execution_count": 200,
   "metadata": {},
   "outputs": [
    {
     "name": "stdout",
     "output_type": "stream",
     "text": [
      "L\n",
      "o\n",
      "r\n",
      "e\n",
      "m\n",
      " \n",
      "i\n",
      "p\n",
      "s\n",
      "u\n",
      "m\n",
      " \n",
      "d\n",
      "o\n",
      "l\n"
     ]
    }
   ],
   "source": [
    "word = []\n",
    "for data in data_set[0]:\n",
    "    for i in range(len(data)):\n",
    "        print(data[i])\n",
    "       \n",
    "        #word.append(charArray)"
   ]
  },
  {
   "cell_type": "code",
   "execution_count": 200,
   "metadata": {},
   "outputs": [
    {
     "name": "stdout",
     "output_type": "stream",
     "text": [
      "L\n",
      "o\n",
      "r\n",
      "e\n",
      "m\n",
      " \n",
      "i\n",
      "p\n",
      "s\n",
      "u\n",
      "m\n",
      " \n",
      "d\n",
      "o\n",
      "l\n"
     ]
    }
   ],
   "source": [
    "word = []\n",
    "for data in data_set[0]:\n",
    "    for i in range(len(data)):\n",
    "        print(data[i])\n",
    "       \n",
    "        #word.append(charArray)"
   ]
  },
  {
   "cell_type": "code",
   "execution_count": 200,
   "metadata": {},
   "outputs": [
    {
     "name": "stdout",
     "output_type": "stream",
     "text": [
      "L\n",
      "o\n",
      "r\n",
      "e\n",
      "m\n",
      " \n",
      "i\n",
      "p\n",
      "s\n",
      "u\n",
      "m\n",
      " \n",
      "d\n",
      "o\n",
      "l\n"
     ]
    }
   ],
   "source": [
    "word = []\n",
    "for data in data_set[0]:\n",
    "    for i in range(len(data)):\n",
    "        print(data[i])\n",
    "       \n",
    "        #word.append(charArray)"
   ]
  },
  {
   "cell_type": "code",
   "execution_count": 200,
   "metadata": {},
   "outputs": [
    {
     "name": "stdout",
     "output_type": "stream",
     "text": [
      "L\n",
      "o\n",
      "r\n",
      "e\n",
      "m\n",
      " \n",
      "i\n",
      "p\n",
      "s\n",
      "u\n",
      "m\n",
      " \n",
      "d\n",
      "o\n",
      "l\n"
     ]
    }
   ],
   "source": [
    "word = []\n",
    "for data in data_set[0]:\n",
    "    for i in range(len(data)):\n",
    "        print(data[i])\n",
    "       \n",
    "        #word.append(charArray)"
   ]
  },
  {
   "cell_type": "code",
   "execution_count": 200,
   "metadata": {},
   "outputs": [
    {
     "name": "stdout",
     "output_type": "stream",
     "text": [
      "L\n",
      "o\n",
      "r\n",
      "e\n",
      "m\n",
      " \n",
      "i\n",
      "p\n",
      "s\n",
      "u\n",
      "m\n",
      " \n",
      "d\n",
      "o\n",
      "l\n"
     ]
    }
   ],
   "source": [
    "word = []\n",
    "for data in data_set[0]:\n",
    "    for i in range(len(data)):\n",
    "        print(data[i])\n",
    "       \n",
    "        #word.append(charArray)"
   ]
  },
  {
   "cell_type": "code",
   "execution_count": 200,
   "metadata": {},
   "outputs": [
    {
     "name": "stdout",
     "output_type": "stream",
     "text": [
      "L\n",
      "o\n",
      "r\n",
      "e\n",
      "m\n",
      " \n",
      "i\n",
      "p\n",
      "s\n",
      "u\n",
      "m\n",
      " \n",
      "d\n",
      "o\n",
      "l\n"
     ]
    }
   ],
   "source": [
    "word = []\n",
    "for data in data_set[0]:\n",
    "    for i in range(len(data)):\n",
    "        print(data[i])\n",
    "       \n",
    "        #word.append(charArray)"
   ]
  },
  {
   "cell_type": "code",
   "execution_count": 200,
   "metadata": {},
   "outputs": [
    {
     "name": "stdout",
     "output_type": "stream",
     "text": [
      "L\n",
      "o\n",
      "r\n",
      "e\n",
      "m\n",
      " \n",
      "i\n",
      "p\n",
      "s\n",
      "u\n",
      "m\n",
      " \n",
      "d\n",
      "o\n",
      "l\n"
     ]
    }
   ],
   "source": [
    "word = []\n",
    "for data in data_set[0]:\n",
    "    for i in range(len(data)):\n",
    "        print(data[i])\n",
    "       \n",
    "        #word.append(charArray)"
   ]
  },
  {
   "cell_type": "code",
   "execution_count": 200,
   "metadata": {},
   "outputs": [
    {
     "name": "stdout",
     "output_type": "stream",
     "text": [
      "L\n",
      "o\n",
      "r\n",
      "e\n",
      "m\n",
      " \n",
      "i\n",
      "p\n",
      "s\n",
      "u\n",
      "m\n",
      " \n",
      "d\n",
      "o\n",
      "l\n"
     ]
    }
   ],
   "source": [
    "word = []\n",
    "for data in data_set[0]:\n",
    "    for i in range(len(data)):\n",
    "        print(data[i])\n",
    "       \n",
    "        #word.append(charArray)"
   ]
  },
  {
   "cell_type": "code",
   "execution_count": 200,
   "metadata": {},
   "outputs": [
    {
     "name": "stdout",
     "output_type": "stream",
     "text": [
      "L\n",
      "o\n",
      "r\n",
      "e\n",
      "m\n",
      " \n",
      "i\n",
      "p\n",
      "s\n",
      "u\n",
      "m\n",
      " \n",
      "d\n",
      "o\n",
      "l\n"
     ]
    }
   ],
   "source": [
    "word = []\n",
    "for data in data_set[0]:\n",
    "    for i in range(len(data)):\n",
    "        print(data[i])\n",
    "       \n",
    "        #word.append(charArray)"
   ]
  },
  {
   "cell_type": "code",
   "execution_count": 200,
   "metadata": {},
   "outputs": [
    {
     "name": "stdout",
     "output_type": "stream",
     "text": [
      "L\n",
      "o\n",
      "r\n",
      "e\n",
      "m\n",
      " \n",
      "i\n",
      "p\n",
      "s\n",
      "u\n",
      "m\n",
      " \n",
      "d\n",
      "o\n",
      "l\n"
     ]
    }
   ],
   "source": [
    "word = []\n",
    "for data in data_set[0]:\n",
    "    for i in range(len(data)):\n",
    "        print(data[i])\n",
    "       \n",
    "        #word.append(charArray)"
   ]
  },
  {
   "cell_type": "code",
   "execution_count": 200,
   "metadata": {},
   "outputs": [
    {
     "name": "stdout",
     "output_type": "stream",
     "text": [
      "L\n",
      "o\n",
      "r\n",
      "e\n",
      "m\n",
      " \n",
      "i\n",
      "p\n",
      "s\n",
      "u\n",
      "m\n",
      " \n",
      "d\n",
      "o\n",
      "l\n"
     ]
    }
   ],
   "source": [
    "word = []\n",
    "for data in data_set[0]:\n",
    "    for i in range(len(data)):\n",
    "        print(data[i])\n",
    "       \n",
    "        #word.append(charArray)"
   ]
  },
  {
   "cell_type": "code",
   "execution_count": 200,
   "metadata": {},
   "outputs": [
    {
     "name": "stdout",
     "output_type": "stream",
     "text": [
      "L\n",
      "o\n",
      "r\n",
      "e\n",
      "m\n",
      " \n",
      "i\n",
      "p\n",
      "s\n",
      "u\n",
      "m\n",
      " \n",
      "d\n",
      "o\n",
      "l\n"
     ]
    }
   ],
   "source": [
    "word = []\n",
    "for data in data_set[0]:\n",
    "    for i in range(len(data)):\n",
    "        print(data[i])\n",
    "       \n",
    "        #word.append(charArray)"
   ]
  },
  {
   "cell_type": "code",
   "execution_count": 200,
   "metadata": {},
   "outputs": [
    {
     "name": "stdout",
     "output_type": "stream",
     "text": [
      "L\n",
      "o\n",
      "r\n",
      "e\n",
      "m\n",
      " \n",
      "i\n",
      "p\n",
      "s\n",
      "u\n",
      "m\n",
      " \n",
      "d\n",
      "o\n",
      "l\n"
     ]
    }
   ],
   "source": [
    "word = []\n",
    "for data in data_set[0]:\n",
    "    for i in range(len(data)):\n",
    "        print(data[i])\n",
    "       \n",
    "        #word.append(charArray)"
   ]
  },
  {
   "cell_type": "code",
   "execution_count": 200,
   "metadata": {},
   "outputs": [
    {
     "name": "stdout",
     "output_type": "stream",
     "text": [
      "L\n",
      "o\n",
      "r\n",
      "e\n",
      "m\n",
      " \n",
      "i\n",
      "p\n",
      "s\n",
      "u\n",
      "m\n",
      " \n",
      "d\n",
      "o\n",
      "l\n"
     ]
    }
   ],
   "source": [
    "word = []\n",
    "for data in data_set[0]:\n",
    "    for i in range(len(data)):\n",
    "        print(data[i])\n",
    "       \n",
    "        #word.append(charArray)"
   ]
  },
  {
   "cell_type": "code",
   "execution_count": 200,
   "metadata": {},
   "outputs": [
    {
     "name": "stdout",
     "output_type": "stream",
     "text": [
      "L\n",
      "o\n",
      "r\n",
      "e\n",
      "m\n",
      " \n",
      "i\n",
      "p\n",
      "s\n",
      "u\n",
      "m\n",
      " \n",
      "d\n",
      "o\n",
      "l\n"
     ]
    }
   ],
   "source": [
    "word = []\n",
    "for data in data_set[0]:\n",
    "    for i in range(len(data)):\n",
    "        print(data[i])\n",
    "       \n",
    "        #word.append(charArray)"
   ]
  },
  {
   "cell_type": "code",
   "execution_count": 200,
   "metadata": {},
   "outputs": [
    {
     "name": "stdout",
     "output_type": "stream",
     "text": [
      "L\n",
      "o\n",
      "r\n",
      "e\n",
      "m\n",
      " \n",
      "i\n",
      "p\n",
      "s\n",
      "u\n",
      "m\n",
      " \n",
      "d\n",
      "o\n",
      "l\n"
     ]
    }
   ],
   "source": [
    "word = []\n",
    "for data in data_set[0]:\n",
    "    for i in range(len(data)):\n",
    "        print(data[i])\n",
    "       \n",
    "        #word.append(charArray)"
   ]
  },
  {
   "cell_type": "code",
   "execution_count": 200,
   "metadata": {},
   "outputs": [
    {
     "name": "stdout",
     "output_type": "stream",
     "text": [
      "L\n",
      "o\n",
      "r\n",
      "e\n",
      "m\n",
      " \n",
      "i\n",
      "p\n",
      "s\n",
      "u\n",
      "m\n",
      " \n",
      "d\n",
      "o\n",
      "l\n"
     ]
    }
   ],
   "source": [
    "word = []\n",
    "for data in data_set[0]:\n",
    "    for i in range(len(data)):\n",
    "        print(data[i])\n",
    "       \n",
    "        #word.append(charArray)"
   ]
  },
  {
   "cell_type": "code",
   "execution_count": 200,
   "metadata": {},
   "outputs": [
    {
     "name": "stdout",
     "output_type": "stream",
     "text": [
      "L\n",
      "o\n",
      "r\n",
      "e\n",
      "m\n",
      " \n",
      "i\n",
      "p\n",
      "s\n",
      "u\n",
      "m\n",
      " \n",
      "d\n",
      "o\n",
      "l\n"
     ]
    }
   ],
   "source": [
    "word = []\n",
    "for data in data_set[0]:\n",
    "    for i in range(len(data)):\n",
    "        print(data[i])\n",
    "       \n",
    "        #word.append(charArray)"
   ]
  },
  {
   "cell_type": "code",
   "execution_count": 200,
   "metadata": {},
   "outputs": [
    {
     "name": "stdout",
     "output_type": "stream",
     "text": [
      "L\n",
      "o\n",
      "r\n",
      "e\n",
      "m\n",
      " \n",
      "i\n",
      "p\n",
      "s\n",
      "u\n",
      "m\n",
      " \n",
      "d\n",
      "o\n",
      "l\n"
     ]
    }
   ],
   "source": [
    "word = []\n",
    "for data in data_set[0]:\n",
    "    for i in range(len(data)):\n",
    "        print(data[i])\n",
    "       \n",
    "        #word.append(charArray)"
   ]
  },
  {
   "cell_type": "code",
   "execution_count": 200,
   "metadata": {},
   "outputs": [
    {
     "name": "stdout",
     "output_type": "stream",
     "text": [
      "L\n",
      "o\n",
      "r\n",
      "e\n",
      "m\n",
      " \n",
      "i\n",
      "p\n",
      "s\n",
      "u\n",
      "m\n",
      " \n",
      "d\n",
      "o\n",
      "l\n"
     ]
    }
   ],
   "source": [
    "word = []\n",
    "for data in data_set[0]:\n",
    "    for i in range(len(data)):\n",
    "        print(data[i])\n",
    "       \n",
    "        #word.append(charArray)"
   ]
  },
  {
   "cell_type": "code",
   "execution_count": 200,
   "metadata": {},
   "outputs": [
    {
     "name": "stdout",
     "output_type": "stream",
     "text": [
      "L\n",
      "o\n",
      "r\n",
      "e\n",
      "m\n",
      " \n",
      "i\n",
      "p\n",
      "s\n",
      "u\n",
      "m\n",
      " \n",
      "d\n",
      "o\n",
      "l\n"
     ]
    }
   ],
   "source": [
    "word = []\n",
    "for data in data_set[0]:\n",
    "    for i in range(len(data)):\n",
    "        print(data[i])\n",
    "       \n",
    "        #word.append(charArray)"
   ]
  },
  {
   "cell_type": "code",
   "execution_count": 200,
   "metadata": {},
   "outputs": [
    {
     "name": "stdout",
     "output_type": "stream",
     "text": [
      "L\n",
      "o\n",
      "r\n",
      "e\n",
      "m\n",
      " \n",
      "i\n",
      "p\n",
      "s\n",
      "u\n",
      "m\n",
      " \n",
      "d\n",
      "o\n",
      "l\n"
     ]
    }
   ],
   "source": [
    "word = []\n",
    "for data in data_set[0]:\n",
    "    for i in range(len(data)):\n",
    "        print(data[i])\n",
    "       \n",
    "        #word.append(charArray)"
   ]
  },
  {
   "cell_type": "code",
   "execution_count": 200,
   "metadata": {},
   "outputs": [
    {
     "name": "stdout",
     "output_type": "stream",
     "text": [
      "L\n",
      "o\n",
      "r\n",
      "e\n",
      "m\n",
      " \n",
      "i\n",
      "p\n",
      "s\n",
      "u\n",
      "m\n",
      " \n",
      "d\n",
      "o\n",
      "l\n"
     ]
    }
   ],
   "source": [
    "word = []\n",
    "for data in data_set[0]:\n",
    "    for i in range(len(data)):\n",
    "        print(data[i])\n",
    "       \n",
    "        #word.append(charArray)"
   ]
  },
  {
   "cell_type": "code",
   "execution_count": 200,
   "metadata": {},
   "outputs": [
    {
     "name": "stdout",
     "output_type": "stream",
     "text": [
      "L\n",
      "o\n",
      "r\n",
      "e\n",
      "m\n",
      " \n",
      "i\n",
      "p\n",
      "s\n",
      "u\n",
      "m\n",
      " \n",
      "d\n",
      "o\n",
      "l\n"
     ]
    }
   ],
   "source": [
    "word = []\n",
    "for data in data_set[0]:\n",
    "    for i in range(len(data)):\n",
    "        print(data[i])\n",
    "       \n",
    "        #word.append(charArray)"
   ]
  },
  {
   "cell_type": "code",
   "execution_count": 200,
   "metadata": {},
   "outputs": [
    {
     "name": "stdout",
     "output_type": "stream",
     "text": [
      "L\n",
      "o\n",
      "r\n",
      "e\n",
      "m\n",
      " \n",
      "i\n",
      "p\n",
      "s\n",
      "u\n",
      "m\n",
      " \n",
      "d\n",
      "o\n",
      "l\n"
     ]
    }
   ],
   "source": [
    "word = []\n",
    "for data in data_set[0]:\n",
    "    for i in range(len(data)):\n",
    "        print(data[i])\n",
    "       \n",
    "        #word.append(charArray)"
   ]
  },
  {
   "cell_type": "code",
   "execution_count": 200,
   "metadata": {},
   "outputs": [
    {
     "name": "stdout",
     "output_type": "stream",
     "text": [
      "L\n",
      "o\n",
      "r\n",
      "e\n",
      "m\n",
      " \n",
      "i\n",
      "p\n",
      "s\n",
      "u\n",
      "m\n",
      " \n",
      "d\n",
      "o\n",
      "l\n"
     ]
    }
   ],
   "source": [
    "word = []\n",
    "for data in data_set[0]:\n",
    "    for i in range(len(data)):\n",
    "        print(data[i])\n",
    "       \n",
    "        #word.append(charArray)"
   ]
  },
  {
   "cell_type": "code",
   "execution_count": 200,
   "metadata": {},
   "outputs": [
    {
     "name": "stdout",
     "output_type": "stream",
     "text": [
      "L\n",
      "o\n",
      "r\n",
      "e\n",
      "m\n",
      " \n",
      "i\n",
      "p\n",
      "s\n",
      "u\n",
      "m\n",
      " \n",
      "d\n",
      "o\n",
      "l\n"
     ]
    }
   ],
   "source": [
    "word = []\n",
    "for data in data_set[0]:\n",
    "    for i in range(len(data)):\n",
    "        print(data[i])\n",
    "       \n",
    "        #word.append(charArray)"
   ]
  },
  {
   "cell_type": "code",
   "execution_count": 200,
   "metadata": {},
   "outputs": [
    {
     "name": "stdout",
     "output_type": "stream",
     "text": [
      "L\n",
      "o\n",
      "r\n",
      "e\n",
      "m\n",
      " \n",
      "i\n",
      "p\n",
      "s\n",
      "u\n",
      "m\n",
      " \n",
      "d\n",
      "o\n",
      "l\n"
     ]
    }
   ],
   "source": [
    "word = []\n",
    "for data in data_set[0]:\n",
    "    for i in range(len(data)):\n",
    "        print(data[i])\n",
    "       \n",
    "        #word.append(charArray)"
   ]
  },
  {
   "cell_type": "code",
   "execution_count": 200,
   "metadata": {},
   "outputs": [
    {
     "name": "stdout",
     "output_type": "stream",
     "text": [
      "L\n",
      "o\n",
      "r\n",
      "e\n",
      "m\n",
      " \n",
      "i\n",
      "p\n",
      "s\n",
      "u\n",
      "m\n",
      " \n",
      "d\n",
      "o\n",
      "l\n"
     ]
    }
   ],
   "source": [
    "word = []\n",
    "for data in data_set[0]:\n",
    "    for i in range(len(data)):\n",
    "        print(data[i])\n",
    "       \n",
    "        #word.append(charArray)"
   ]
  },
  {
   "cell_type": "code",
   "execution_count": 200,
   "metadata": {},
   "outputs": [
    {
     "name": "stdout",
     "output_type": "stream",
     "text": [
      "L\n",
      "o\n",
      "r\n",
      "e\n",
      "m\n",
      " \n",
      "i\n",
      "p\n",
      "s\n",
      "u\n",
      "m\n",
      " \n",
      "d\n",
      "o\n",
      "l\n"
     ]
    }
   ],
   "source": [
    "word = []\n",
    "for data in data_set[0]:\n",
    "    for i in range(len(data)):\n",
    "        print(data[i])\n",
    "       \n",
    "        #word.append(charArray)"
   ]
  },
  {
   "cell_type": "code",
   "execution_count": 200,
   "metadata": {},
   "outputs": [
    {
     "name": "stdout",
     "output_type": "stream",
     "text": [
      "L\n",
      "o\n",
      "r\n",
      "e\n",
      "m\n",
      " \n",
      "i\n",
      "p\n",
      "s\n",
      "u\n",
      "m\n",
      " \n",
      "d\n",
      "o\n",
      "l\n"
     ]
    }
   ],
   "source": [
    "word = []\n",
    "for data in data_set[0]:\n",
    "    for i in range(len(data)):\n",
    "        print(data[i])\n",
    "       \n",
    "        #word.append(charArray)"
   ]
  },
  {
   "cell_type": "code",
   "execution_count": 200,
   "metadata": {},
   "outputs": [
    {
     "name": "stdout",
     "output_type": "stream",
     "text": [
      "L\n",
      "o\n",
      "r\n",
      "e\n",
      "m\n",
      " \n",
      "i\n",
      "p\n",
      "s\n",
      "u\n",
      "m\n",
      " \n",
      "d\n",
      "o\n",
      "l\n"
     ]
    }
   ],
   "source": [
    "word = []\n",
    "for data in data_set[0]:\n",
    "    for i in range(len(data)):\n",
    "        print(data[i])\n",
    "       \n",
    "        #word.append(charArray)"
   ]
  },
  {
   "cell_type": "code",
   "execution_count": 200,
   "metadata": {},
   "outputs": [
    {
     "name": "stdout",
     "output_type": "stream",
     "text": [
      "L\n",
      "o\n",
      "r\n",
      "e\n",
      "m\n",
      " \n",
      "i\n",
      "p\n",
      "s\n",
      "u\n",
      "m\n",
      " \n",
      "d\n",
      "o\n",
      "l\n"
     ]
    }
   ],
   "source": [
    "word = []\n",
    "for data in data_set[0]:\n",
    "    for i in range(len(data)):\n",
    "        print(data[i])\n",
    "       \n",
    "        #word.append(charArray)"
   ]
  },
  {
   "cell_type": "code",
   "execution_count": 200,
   "metadata": {},
   "outputs": [
    {
     "name": "stdout",
     "output_type": "stream",
     "text": [
      "L\n",
      "o\n",
      "r\n",
      "e\n",
      "m\n",
      " \n",
      "i\n",
      "p\n",
      "s\n",
      "u\n",
      "m\n",
      " \n",
      "d\n",
      "o\n",
      "l\n"
     ]
    }
   ],
   "source": [
    "word = []\n",
    "for data in data_set[0]:\n",
    "    for i in range(len(data)):\n",
    "        print(data[i])\n",
    "       \n",
    "        #word.append(charArray)"
   ]
  },
  {
   "cell_type": "code",
   "execution_count": 200,
   "metadata": {},
   "outputs": [
    {
     "name": "stdout",
     "output_type": "stream",
     "text": [
      "L\n",
      "o\n",
      "r\n",
      "e\n",
      "m\n",
      " \n",
      "i\n",
      "p\n",
      "s\n",
      "u\n",
      "m\n",
      " \n",
      "d\n",
      "o\n",
      "l\n"
     ]
    }
   ],
   "source": [
    "word = []\n",
    "for data in data_set[0]:\n",
    "    for i in range(len(data)):\n",
    "        print(data[i])\n",
    "       \n",
    "        #word.append(charArray)"
   ]
  },
  {
   "cell_type": "code",
   "execution_count": 200,
   "metadata": {},
   "outputs": [
    {
     "name": "stdout",
     "output_type": "stream",
     "text": [
      "L\n",
      "o\n",
      "r\n",
      "e\n",
      "m\n",
      " \n",
      "i\n",
      "p\n",
      "s\n",
      "u\n",
      "m\n",
      " \n",
      "d\n",
      "o\n",
      "l\n"
     ]
    }
   ],
   "source": [
    "word = []\n",
    "for data in data_set[0]:\n",
    "    for i in range(len(data)):\n",
    "        print(data[i])\n",
    "       \n",
    "        #word.append(charArray)"
   ]
  },
  {
   "cell_type": "code",
   "execution_count": 200,
   "metadata": {},
   "outputs": [
    {
     "name": "stdout",
     "output_type": "stream",
     "text": [
      "L\n",
      "o\n",
      "r\n",
      "e\n",
      "m\n",
      " \n",
      "i\n",
      "p\n",
      "s\n",
      "u\n",
      "m\n",
      " \n",
      "d\n",
      "o\n",
      "l\n"
     ]
    }
   ],
   "source": [
    "word = []\n",
    "for data in data_set[0]:\n",
    "    for i in range(len(data)):\n",
    "        print(data[i])\n",
    "       \n",
    "        #word.append(charArray)"
   ]
  },
  {
   "cell_type": "code",
   "execution_count": 200,
   "metadata": {},
   "outputs": [
    {
     "name": "stdout",
     "output_type": "stream",
     "text": [
      "L\n",
      "o\n",
      "r\n",
      "e\n",
      "m\n",
      " \n",
      "i\n",
      "p\n",
      "s\n",
      "u\n",
      "m\n",
      " \n",
      "d\n",
      "o\n",
      "l\n"
     ]
    }
   ],
   "source": [
    "word = []\n",
    "for data in data_set[0]:\n",
    "    for i in range(len(data)):\n",
    "        print(data[i])\n",
    "       \n",
    "        #word.append(charArray)"
   ]
  },
  {
   "cell_type": "code",
   "execution_count": 200,
   "metadata": {},
   "outputs": [
    {
     "name": "stdout",
     "output_type": "stream",
     "text": [
      "L\n",
      "o\n",
      "r\n",
      "e\n",
      "m\n",
      " \n",
      "i\n",
      "p\n",
      "s\n",
      "u\n",
      "m\n",
      " \n",
      "d\n",
      "o\n",
      "l\n"
     ]
    }
   ],
   "source": [
    "word = []\n",
    "for data in data_set[0]:\n",
    "    for i in range(len(data)):\n",
    "        print(data[i])\n",
    "       \n",
    "        #word.append(charArray)"
   ]
  },
  {
   "cell_type": "code",
   "execution_count": 200,
   "metadata": {},
   "outputs": [
    {
     "name": "stdout",
     "output_type": "stream",
     "text": [
      "L\n",
      "o\n",
      "r\n",
      "e\n",
      "m\n",
      " \n",
      "i\n",
      "p\n",
      "s\n",
      "u\n",
      "m\n",
      " \n",
      "d\n",
      "o\n",
      "l\n"
     ]
    }
   ],
   "source": [
    "word = []\n",
    "for data in data_set[0]:\n",
    "    for i in range(len(data)):\n",
    "        print(data[i])\n",
    "       \n",
    "        #word.append(charArray)"
   ]
  },
  {
   "cell_type": "code",
   "execution_count": 200,
   "metadata": {},
   "outputs": [
    {
     "name": "stdout",
     "output_type": "stream",
     "text": [
      "L\n",
      "o\n",
      "r\n",
      "e\n",
      "m\n",
      " \n",
      "i\n",
      "p\n",
      "s\n",
      "u\n",
      "m\n",
      " \n",
      "d\n",
      "o\n",
      "l\n"
     ]
    }
   ],
   "source": [
    "word = []\n",
    "for data in data_set[0]:\n",
    "    for i in range(len(data)):\n",
    "        print(data[i])\n",
    "       \n",
    "        #word.append(charArray)"
   ]
  },
  {
   "cell_type": "code",
   "execution_count": 200,
   "metadata": {},
   "outputs": [
    {
     "name": "stdout",
     "output_type": "stream",
     "text": [
      "L\n",
      "o\n",
      "r\n",
      "e\n",
      "m\n",
      " \n",
      "i\n",
      "p\n",
      "s\n",
      "u\n",
      "m\n",
      " \n",
      "d\n",
      "o\n",
      "l\n"
     ]
    }
   ],
   "source": [
    "word = []\n",
    "for data in data_set[0]:\n",
    "    for i in range(len(data)):\n",
    "        print(data[i])\n",
    "       \n",
    "        #word.append(charArray)"
   ]
  },
  {
   "cell_type": "code",
   "execution_count": 200,
   "metadata": {},
   "outputs": [
    {
     "name": "stdout",
     "output_type": "stream",
     "text": [
      "L\n",
      "o\n",
      "r\n",
      "e\n",
      "m\n",
      " \n",
      "i\n",
      "p\n",
      "s\n",
      "u\n",
      "m\n",
      " \n",
      "d\n",
      "o\n",
      "l\n"
     ]
    }
   ],
   "source": [
    "word = []\n",
    "for data in data_set[0]:\n",
    "    for i in range(len(data)):\n",
    "        print(data[i])\n",
    "       \n",
    "        #word.append(charArray)"
   ]
  },
  {
   "cell_type": "code",
   "execution_count": 200,
   "metadata": {},
   "outputs": [
    {
     "name": "stdout",
     "output_type": "stream",
     "text": [
      "L\n",
      "o\n",
      "r\n",
      "e\n",
      "m\n",
      " \n",
      "i\n",
      "p\n",
      "s\n",
      "u\n",
      "m\n",
      " \n",
      "d\n",
      "o\n",
      "l\n"
     ]
    }
   ],
   "source": [
    "word = []\n",
    "for data in data_set[0]:\n",
    "    for i in range(len(data)):\n",
    "        print(data[i])\n",
    "       \n",
    "        #word.append(charArray)"
   ]
  },
  {
   "cell_type": "code",
   "execution_count": 200,
   "metadata": {},
   "outputs": [
    {
     "name": "stdout",
     "output_type": "stream",
     "text": [
      "L\n",
      "o\n",
      "r\n",
      "e\n",
      "m\n",
      " \n",
      "i\n",
      "p\n",
      "s\n",
      "u\n",
      "m\n",
      " \n",
      "d\n",
      "o\n",
      "l\n"
     ]
    }
   ],
   "source": [
    "word = []\n",
    "for data in data_set[0]:\n",
    "    for i in range(len(data)):\n",
    "        print(data[i])\n",
    "       \n",
    "        #word.append(charArray)"
   ]
  },
  {
   "cell_type": "code",
   "execution_count": 200,
   "metadata": {},
   "outputs": [
    {
     "name": "stdout",
     "output_type": "stream",
     "text": [
      "L\n",
      "o\n",
      "r\n",
      "e\n",
      "m\n",
      " \n",
      "i\n",
      "p\n",
      "s\n",
      "u\n",
      "m\n",
      " \n",
      "d\n",
      "o\n",
      "l\n"
     ]
    }
   ],
   "source": [
    "word = []\n",
    "for data in data_set[0]:\n",
    "    for i in range(len(data)):\n",
    "        print(data[i])\n",
    "       \n",
    "        #word.append(charArray)"
   ]
  },
  {
   "cell_type": "code",
   "execution_count": 200,
   "metadata": {},
   "outputs": [
    {
     "name": "stdout",
     "output_type": "stream",
     "text": [
      "L\n",
      "o\n",
      "r\n",
      "e\n",
      "m\n",
      " \n",
      "i\n",
      "p\n",
      "s\n",
      "u\n",
      "m\n",
      " \n",
      "d\n",
      "o\n",
      "l\n"
     ]
    }
   ],
   "source": [
    "word = []\n",
    "for data in data_set[0]:\n",
    "    for i in range(len(data)):\n",
    "        print(data[i])\n",
    "       \n",
    "        #word.append(charArray)"
   ]
  },
  {
   "cell_type": "code",
   "execution_count": 200,
   "metadata": {},
   "outputs": [
    {
     "name": "stdout",
     "output_type": "stream",
     "text": [
      "L\n",
      "o\n",
      "r\n",
      "e\n",
      "m\n",
      " \n",
      "i\n",
      "p\n",
      "s\n",
      "u\n",
      "m\n",
      " \n",
      "d\n",
      "o\n",
      "l\n"
     ]
    }
   ],
   "source": [
    "word = []\n",
    "for data in data_set[0]:\n",
    "    for i in range(len(data)):\n",
    "        print(data[i])\n",
    "       \n",
    "        #word.append(charArray)"
   ]
  },
  {
   "cell_type": "code",
   "execution_count": 200,
   "metadata": {},
   "outputs": [
    {
     "name": "stdout",
     "output_type": "stream",
     "text": [
      "L\n",
      "o\n",
      "r\n",
      "e\n",
      "m\n",
      " \n",
      "i\n",
      "p\n",
      "s\n",
      "u\n",
      "m\n",
      " \n",
      "d\n",
      "o\n",
      "l\n"
     ]
    }
   ],
   "source": [
    "word = []\n",
    "for data in data_set[0]:\n",
    "    for i in range(len(data)):\n",
    "        print(data[i])\n",
    "       \n",
    "        #word.append(charArray)"
   ]
  },
  {
   "cell_type": "code",
   "execution_count": 200,
   "metadata": {},
   "outputs": [
    {
     "name": "stdout",
     "output_type": "stream",
     "text": [
      "L\n",
      "o\n",
      "r\n",
      "e\n",
      "m\n",
      " \n",
      "i\n",
      "p\n",
      "s\n",
      "u\n",
      "m\n",
      " \n",
      "d\n",
      "o\n",
      "l\n"
     ]
    }
   ],
   "source": [
    "word = []\n",
    "for data in data_set[0]:\n",
    "    for i in range(len(data)):\n",
    "        print(data[i])\n",
    "       \n",
    "        #word.append(charArray)"
   ]
  },
  {
   "cell_type": "code",
   "execution_count": 200,
   "metadata": {},
   "outputs": [
    {
     "name": "stdout",
     "output_type": "stream",
     "text": [
      "L\n",
      "o\n",
      "r\n",
      "e\n",
      "m\n",
      " \n",
      "i\n",
      "p\n",
      "s\n",
      "u\n",
      "m\n",
      " \n",
      "d\n",
      "o\n",
      "l\n"
     ]
    }
   ],
   "source": [
    "word = []\n",
    "for data in data_set[0]:\n",
    "    for i in range(len(data)):\n",
    "        print(data[i])\n",
    "       \n",
    "        #word.append(charArray)"
   ]
  },
  {
   "cell_type": "code",
   "execution_count": 200,
   "metadata": {},
   "outputs": [
    {
     "name": "stdout",
     "output_type": "stream",
     "text": [
      "L\n",
      "o\n",
      "r\n",
      "e\n",
      "m\n",
      " \n",
      "i\n",
      "p\n",
      "s\n",
      "u\n",
      "m\n",
      " \n",
      "d\n",
      "o\n",
      "l\n"
     ]
    }
   ],
   "source": [
    "word = []\n",
    "for data in data_set[0]:\n",
    "    for i in range(len(data)):\n",
    "        print(data[i])\n",
    "       \n",
    "        #word.append(charArray)"
   ]
  },
  {
   "cell_type": "code",
   "execution_count": 200,
   "metadata": {},
   "outputs": [
    {
     "name": "stdout",
     "output_type": "stream",
     "text": [
      "L\n",
      "o\n",
      "r\n",
      "e\n",
      "m\n",
      " \n",
      "i\n",
      "p\n",
      "s\n",
      "u\n",
      "m\n",
      " \n",
      "d\n",
      "o\n",
      "l\n"
     ]
    }
   ],
   "source": [
    "word = []\n",
    "for data in data_set[0]:\n",
    "    for i in range(len(data)):\n",
    "        print(data[i])\n",
    "       \n",
    "        #word.append(charArray)"
   ]
  },
  {
   "cell_type": "code",
   "execution_count": 200,
   "metadata": {},
   "outputs": [
    {
     "name": "stdout",
     "output_type": "stream",
     "text": [
      "L\n",
      "o\n",
      "r\n",
      "e\n",
      "m\n",
      " \n",
      "i\n",
      "p\n",
      "s\n",
      "u\n",
      "m\n",
      " \n",
      "d\n",
      "o\n",
      "l\n"
     ]
    }
   ],
   "source": [
    "word = []\n",
    "for data in data_set[0]:\n",
    "    for i in range(len(data)):\n",
    "        print(data[i])\n",
    "       \n",
    "        #word.append(charArray)"
   ]
  },
  {
   "cell_type": "code",
   "execution_count": 200,
   "metadata": {},
   "outputs": [
    {
     "name": "stdout",
     "output_type": "stream",
     "text": [
      "L\n",
      "o\n",
      "r\n",
      "e\n",
      "m\n",
      " \n",
      "i\n",
      "p\n",
      "s\n",
      "u\n",
      "m\n",
      " \n",
      "d\n",
      "o\n",
      "l\n"
     ]
    }
   ],
   "source": [
    "word = []\n",
    "for data in data_set[0]:\n",
    "    for i in range(len(data)):\n",
    "        print(data[i])\n",
    "       \n",
    "        #word.append(charArray)"
   ]
  },
  {
   "cell_type": "code",
   "execution_count": 200,
   "metadata": {},
   "outputs": [
    {
     "name": "stdout",
     "output_type": "stream",
     "text": [
      "L\n",
      "o\n",
      "r\n",
      "e\n",
      "m\n",
      " \n",
      "i\n",
      "p\n",
      "s\n",
      "u\n",
      "m\n",
      " \n",
      "d\n",
      "o\n",
      "l\n"
     ]
    }
   ],
   "source": [
    "word = []\n",
    "for data in data_set[0]:\n",
    "    for i in range(len(data)):\n",
    "        print(data[i])\n",
    "       \n",
    "        #word.append(charArray)"
   ]
  },
  {
   "cell_type": "code",
   "execution_count": 200,
   "metadata": {},
   "outputs": [
    {
     "name": "stdout",
     "output_type": "stream",
     "text": [
      "L\n",
      "o\n",
      "r\n",
      "e\n",
      "m\n",
      " \n",
      "i\n",
      "p\n",
      "s\n",
      "u\n",
      "m\n",
      " \n",
      "d\n",
      "o\n",
      "l\n"
     ]
    }
   ],
   "source": [
    "word = []\n",
    "for data in data_set[0]:\n",
    "    for i in range(len(data)):\n",
    "        print(data[i])\n",
    "       \n",
    "        #word.append(charArray)"
   ]
  },
  {
   "cell_type": "code",
   "execution_count": 200,
   "metadata": {},
   "outputs": [
    {
     "name": "stdout",
     "output_type": "stream",
     "text": [
      "L\n",
      "o\n",
      "r\n",
      "e\n",
      "m\n",
      " \n",
      "i\n",
      "p\n",
      "s\n",
      "u\n",
      "m\n",
      " \n",
      "d\n",
      "o\n",
      "l\n"
     ]
    }
   ],
   "source": [
    "word = []\n",
    "for data in data_set[0]:\n",
    "    for i in range(len(data)):\n",
    "        print(data[i])\n",
    "       \n",
    "        #word.append(charArray)"
   ]
  },
  {
   "cell_type": "code",
   "execution_count": 200,
   "metadata": {},
   "outputs": [
    {
     "name": "stdout",
     "output_type": "stream",
     "text": [
      "L\n",
      "o\n",
      "r\n",
      "e\n",
      "m\n",
      " \n",
      "i\n",
      "p\n",
      "s\n",
      "u\n",
      "m\n",
      " \n",
      "d\n",
      "o\n",
      "l\n"
     ]
    }
   ],
   "source": [
    "word = []\n",
    "for data in data_set[0]:\n",
    "    for i in range(len(data)):\n",
    "        print(data[i])\n",
    "       \n",
    "        #word.append(charArray)"
   ]
  },
  {
   "cell_type": "code",
   "execution_count": 200,
   "metadata": {},
   "outputs": [
    {
     "name": "stdout",
     "output_type": "stream",
     "text": [
      "L\n",
      "o\n",
      "r\n",
      "e\n",
      "m\n",
      " \n",
      "i\n",
      "p\n",
      "s\n",
      "u\n",
      "m\n",
      " \n",
      "d\n",
      "o\n",
      "l\n"
     ]
    }
   ],
   "source": [
    "word = []\n",
    "for data in data_set[0]:\n",
    "    for i in range(len(data)):\n",
    "        print(data[i])\n",
    "       \n",
    "        #word.append(charArray)"
   ]
  },
  {
   "cell_type": "code",
   "execution_count": 200,
   "metadata": {},
   "outputs": [
    {
     "name": "stdout",
     "output_type": "stream",
     "text": [
      "L\n",
      "o\n",
      "r\n",
      "e\n",
      "m\n",
      " \n",
      "i\n",
      "p\n",
      "s\n",
      "u\n",
      "m\n",
      " \n",
      "d\n",
      "o\n",
      "l\n"
     ]
    }
   ],
   "source": [
    "word = []\n",
    "for data in data_set[0]:\n",
    "    for i in range(len(data)):\n",
    "        print(data[i])\n",
    "       \n",
    "        #word.append(charArray)"
   ]
  },
  {
   "cell_type": "code",
   "execution_count": 200,
   "metadata": {},
   "outputs": [
    {
     "name": "stdout",
     "output_type": "stream",
     "text": [
      "L\n",
      "o\n",
      "r\n",
      "e\n",
      "m\n",
      " \n",
      "i\n",
      "p\n",
      "s\n",
      "u\n",
      "m\n",
      " \n",
      "d\n",
      "o\n",
      "l\n"
     ]
    }
   ],
   "source": [
    "word = []\n",
    "for data in data_set[0]:\n",
    "    for i in range(len(data)):\n",
    "        print(data[i])\n",
    "       \n",
    "        #word.append(charArray)"
   ]
  },
  {
   "cell_type": "code",
   "execution_count": 200,
   "metadata": {},
   "outputs": [
    {
     "name": "stdout",
     "output_type": "stream",
     "text": [
      "L\n",
      "o\n",
      "r\n",
      "e\n",
      "m\n",
      " \n",
      "i\n",
      "p\n",
      "s\n",
      "u\n",
      "m\n",
      " \n",
      "d\n",
      "o\n",
      "l\n"
     ]
    }
   ],
   "source": [
    "word = []\n",
    "for data in data_set[0]:\n",
    "    for i in range(len(data)):\n",
    "        print(data[i])\n",
    "       \n",
    "        #word.append(charArray)"
   ]
  },
  {
   "cell_type": "code",
   "execution_count": 200,
   "metadata": {},
   "outputs": [
    {
     "name": "stdout",
     "output_type": "stream",
     "text": [
      "L\n",
      "o\n",
      "r\n",
      "e\n",
      "m\n",
      " \n",
      "i\n",
      "p\n",
      "s\n",
      "u\n",
      "m\n",
      " \n",
      "d\n",
      "o\n",
      "l\n"
     ]
    }
   ],
   "source": [
    "word = []\n",
    "for data in data_set[0]:\n",
    "    for i in range(len(data)):\n",
    "        print(data[i])\n",
    "       \n",
    "        #word.append(charArray)"
   ]
  },
  {
   "cell_type": "code",
   "execution_count": 200,
   "metadata": {},
   "outputs": [
    {
     "name": "stdout",
     "output_type": "stream",
     "text": [
      "L\n",
      "o\n",
      "r\n",
      "e\n",
      "m\n",
      " \n",
      "i\n",
      "p\n",
      "s\n",
      "u\n",
      "m\n",
      " \n",
      "d\n",
      "o\n",
      "l\n"
     ]
    }
   ],
   "source": [
    "word = []\n",
    "for data in data_set[0]:\n",
    "    for i in range(len(data)):\n",
    "        print(data[i])\n",
    "       \n",
    "        #word.append(charArray)"
   ]
  },
  {
   "cell_type": "code",
   "execution_count": 200,
   "metadata": {},
   "outputs": [
    {
     "name": "stdout",
     "output_type": "stream",
     "text": [
      "L\n",
      "o\n",
      "r\n",
      "e\n",
      "m\n",
      " \n",
      "i\n",
      "p\n",
      "s\n",
      "u\n",
      "m\n",
      " \n",
      "d\n",
      "o\n",
      "l\n"
     ]
    }
   ],
   "source": [
    "word = []\n",
    "for data in data_set[0]:\n",
    "    for i in range(len(data)):\n",
    "        print(data[i])\n",
    "       \n",
    "        #word.append(charArray)"
   ]
  },
  {
   "cell_type": "code",
   "execution_count": 200,
   "metadata": {},
   "outputs": [
    {
     "name": "stdout",
     "output_type": "stream",
     "text": [
      "L\n",
      "o\n",
      "r\n",
      "e\n",
      "m\n",
      " \n",
      "i\n",
      "p\n",
      "s\n",
      "u\n",
      "m\n",
      " \n",
      "d\n",
      "o\n",
      "l\n"
     ]
    }
   ],
   "source": [
    "word = []\n",
    "for data in data_set[0]:\n",
    "    for i in range(len(data)):\n",
    "        print(data[i])\n",
    "       \n",
    "        #word.append(charArray)"
   ]
  },
  {
   "cell_type": "code",
   "execution_count": 200,
   "metadata": {},
   "outputs": [
    {
     "name": "stdout",
     "output_type": "stream",
     "text": [
      "L\n",
      "o\n",
      "r\n",
      "e\n",
      "m\n",
      " \n",
      "i\n",
      "p\n",
      "s\n",
      "u\n",
      "m\n",
      " \n",
      "d\n",
      "o\n",
      "l\n"
     ]
    }
   ],
   "source": [
    "word = []\n",
    "for data in data_set[0]:\n",
    "    for i in range(len(data)):\n",
    "        print(data[i])\n",
    "       \n",
    "        #word.append(charArray)"
   ]
  },
  {
   "cell_type": "code",
   "execution_count": 200,
   "metadata": {},
   "outputs": [
    {
     "name": "stdout",
     "output_type": "stream",
     "text": [
      "L\n",
      "o\n",
      "r\n",
      "e\n",
      "m\n",
      " \n",
      "i\n",
      "p\n",
      "s\n",
      "u\n",
      "m\n",
      " \n",
      "d\n",
      "o\n",
      "l\n"
     ]
    }
   ],
   "source": [
    "word = []\n",
    "for data in data_set[0]:\n",
    "    for i in range(len(data)):\n",
    "        print(data[i])\n",
    "       \n",
    "        #word.append(charArray)"
   ]
  },
  {
   "cell_type": "code",
   "execution_count": 200,
   "metadata": {},
   "outputs": [
    {
     "name": "stdout",
     "output_type": "stream",
     "text": [
      "L\n",
      "o\n",
      "r\n",
      "e\n",
      "m\n",
      " \n",
      "i\n",
      "p\n",
      "s\n",
      "u\n",
      "m\n",
      " \n",
      "d\n",
      "o\n",
      "l\n"
     ]
    }
   ],
   "source": [
    "word = []\n",
    "for data in data_set[0]:\n",
    "    for i in range(len(data)):\n",
    "        print(data[i])\n",
    "       \n",
    "        #word.append(charArray)"
   ]
  },
  {
   "cell_type": "code",
   "execution_count": 200,
   "metadata": {},
   "outputs": [
    {
     "name": "stdout",
     "output_type": "stream",
     "text": [
      "L\n",
      "o\n",
      "r\n",
      "e\n",
      "m\n",
      " \n",
      "i\n",
      "p\n",
      "s\n",
      "u\n",
      "m\n",
      " \n",
      "d\n",
      "o\n",
      "l\n"
     ]
    }
   ],
   "source": [
    "word = []\n",
    "for data in data_set[0]:\n",
    "    for i in range(len(data)):\n",
    "        print(data[i])\n",
    "       \n",
    "        #word.append(charArray)"
   ]
  },
  {
   "cell_type": "code",
   "execution_count": 200,
   "metadata": {},
   "outputs": [
    {
     "name": "stdout",
     "output_type": "stream",
     "text": [
      "L\n",
      "o\n",
      "r\n",
      "e\n",
      "m\n",
      " \n",
      "i\n",
      "p\n",
      "s\n",
      "u\n",
      "m\n",
      " \n",
      "d\n",
      "o\n",
      "l\n"
     ]
    }
   ],
   "source": [
    "word = []\n",
    "for data in data_set[0]:\n",
    "    for i in range(len(data)):\n",
    "        print(data[i])\n",
    "       \n",
    "        #word.append(charArray)"
   ]
  },
  {
   "cell_type": "code",
   "execution_count": 200,
   "metadata": {},
   "outputs": [
    {
     "name": "stdout",
     "output_type": "stream",
     "text": [
      "L\n",
      "o\n",
      "r\n",
      "e\n",
      "m\n",
      " \n",
      "i\n",
      "p\n",
      "s\n",
      "u\n",
      "m\n",
      " \n",
      "d\n",
      "o\n",
      "l\n"
     ]
    }
   ],
   "source": [
    "word = []\n",
    "for data in data_set[0]:\n",
    "    for i in range(len(data)):\n",
    "        print(data[i])\n",
    "       \n",
    "        #word.append(charArray)"
   ]
  },
  {
   "cell_type": "code",
   "execution_count": 200,
   "metadata": {},
   "outputs": [
    {
     "name": "stdout",
     "output_type": "stream",
     "text": [
      "L\n",
      "o\n",
      "r\n",
      "e\n",
      "m\n",
      " \n",
      "i\n",
      "p\n",
      "s\n",
      "u\n",
      "m\n",
      " \n",
      "d\n",
      "o\n",
      "l\n"
     ]
    }
   ],
   "source": [
    "word = []\n",
    "for data in data_set[0]:\n",
    "    for i in range(len(data)):\n",
    "        print(data[i])\n",
    "       \n",
    "        #word.append(charArray)"
   ]
  },
  {
   "cell_type": "code",
   "execution_count": 200,
   "metadata": {},
   "outputs": [
    {
     "name": "stdout",
     "output_type": "stream",
     "text": [
      "L\n",
      "o\n",
      "r\n",
      "e\n",
      "m\n",
      " \n",
      "i\n",
      "p\n",
      "s\n",
      "u\n",
      "m\n",
      " \n",
      "d\n",
      "o\n",
      "l\n"
     ]
    }
   ],
   "source": [
    "word = []\n",
    "for data in data_set[0]:\n",
    "    for i in range(len(data)):\n",
    "        print(data[i])\n",
    "       \n",
    "        #word.append(charArray)"
   ]
  },
  {
   "cell_type": "code",
   "execution_count": 200,
   "metadata": {},
   "outputs": [
    {
     "name": "stdout",
     "output_type": "stream",
     "text": [
      "L\n",
      "o\n",
      "r\n",
      "e\n",
      "m\n",
      " \n",
      "i\n",
      "p\n",
      "s\n",
      "u\n",
      "m\n",
      " \n",
      "d\n",
      "o\n",
      "l\n"
     ]
    }
   ],
   "source": [
    "word = []\n",
    "for data in data_set[0]:\n",
    "    for i in range(len(data)):\n",
    "        print(data[i])\n",
    "       \n",
    "        #word.append(charArray)"
   ]
  },
  {
   "cell_type": "code",
   "execution_count": 200,
   "metadata": {},
   "outputs": [
    {
     "name": "stdout",
     "output_type": "stream",
     "text": [
      "L\n",
      "o\n",
      "r\n",
      "e\n",
      "m\n",
      " \n",
      "i\n",
      "p\n",
      "s\n",
      "u\n",
      "m\n",
      " \n",
      "d\n",
      "o\n",
      "l\n"
     ]
    }
   ],
   "source": [
    "word = []\n",
    "for data in data_set[0]:\n",
    "    for i in range(len(data)):\n",
    "        print(data[i])\n",
    "       \n",
    "        #word.append(charArray)"
   ]
  },
  {
   "cell_type": "code",
   "execution_count": 200,
   "metadata": {},
   "outputs": [
    {
     "name": "stdout",
     "output_type": "stream",
     "text": [
      "L\n",
      "o\n",
      "r\n",
      "e\n",
      "m\n",
      " \n",
      "i\n",
      "p\n",
      "s\n",
      "u\n",
      "m\n",
      " \n",
      "d\n",
      "o\n",
      "l\n"
     ]
    }
   ],
   "source": [
    "word = []\n",
    "for data in data_set[0]:\n",
    "    for i in range(len(data)):\n",
    "        print(data[i])\n",
    "       \n",
    "        #word.append(charArray)"
   ]
  },
  {
   "cell_type": "code",
   "execution_count": 200,
   "metadata": {},
   "outputs": [
    {
     "name": "stdout",
     "output_type": "stream",
     "text": [
      "L\n",
      "o\n",
      "r\n",
      "e\n",
      "m\n",
      " \n",
      "i\n",
      "p\n",
      "s\n",
      "u\n",
      "m\n",
      " \n",
      "d\n",
      "o\n",
      "l\n"
     ]
    }
   ],
   "source": [
    "word = []\n",
    "for data in data_set[0]:\n",
    "    for i in range(len(data)):\n",
    "        print(data[i])\n",
    "       \n",
    "        #word.append(charArray)"
   ]
  },
  {
   "cell_type": "code",
   "execution_count": 200,
   "metadata": {},
   "outputs": [
    {
     "name": "stdout",
     "output_type": "stream",
     "text": [
      "L\n",
      "o\n",
      "r\n",
      "e\n",
      "m\n",
      " \n",
      "i\n",
      "p\n",
      "s\n",
      "u\n",
      "m\n",
      " \n",
      "d\n",
      "o\n",
      "l\n"
     ]
    }
   ],
   "source": [
    "word = []\n",
    "for data in data_set[0]:\n",
    "    for i in range(len(data)):\n",
    "        print(data[i])\n",
    "       \n",
    "        #word.append(charArray)"
   ]
  },
  {
   "cell_type": "code",
   "execution_count": 200,
   "metadata": {},
   "outputs": [
    {
     "name": "stdout",
     "output_type": "stream",
     "text": [
      "L\n",
      "o\n",
      "r\n",
      "e\n",
      "m\n",
      " \n",
      "i\n",
      "p\n",
      "s\n",
      "u\n",
      "m\n",
      " \n",
      "d\n",
      "o\n",
      "l\n"
     ]
    }
   ],
   "source": [
    "word = []\n",
    "for data in data_set[0]:\n",
    "    for i in range(len(data)):\n",
    "        print(data[i])\n",
    "       \n",
    "        #word.append(charArray)"
   ]
  },
  {
   "cell_type": "code",
   "execution_count": 200,
   "metadata": {},
   "outputs": [
    {
     "name": "stdout",
     "output_type": "stream",
     "text": [
      "L\n",
      "o\n",
      "r\n",
      "e\n",
      "m\n",
      " \n",
      "i\n",
      "p\n",
      "s\n",
      "u\n",
      "m\n",
      " \n",
      "d\n",
      "o\n",
      "l\n"
     ]
    }
   ],
   "source": [
    "word = []\n",
    "for data in data_set[0]:\n",
    "    for i in range(len(data)):\n",
    "        print(data[i])\n",
    "       \n",
    "        #word.append(charArray)"
   ]
  },
  {
   "cell_type": "code",
   "execution_count": 200,
   "metadata": {},
   "outputs": [
    {
     "name": "stdout",
     "output_type": "stream",
     "text": [
      "L\n",
      "o\n",
      "r\n",
      "e\n",
      "m\n",
      " \n",
      "i\n",
      "p\n",
      "s\n",
      "u\n",
      "m\n",
      " \n",
      "d\n",
      "o\n",
      "l\n"
     ]
    }
   ],
   "source": [
    "word = []\n",
    "for data in data_set[0]:\n",
    "    for i in range(len(data)):\n",
    "        print(data[i])\n",
    "       \n",
    "        #word.append(charArray)"
   ]
  },
  {
   "cell_type": "code",
   "execution_count": 200,
   "metadata": {},
   "outputs": [
    {
     "name": "stdout",
     "output_type": "stream",
     "text": [
      "L\n",
      "o\n",
      "r\n",
      "e\n",
      "m\n",
      " \n",
      "i\n",
      "p\n",
      "s\n",
      "u\n",
      "m\n",
      " \n",
      "d\n",
      "o\n",
      "l\n"
     ]
    }
   ],
   "source": [
    "word = []\n",
    "for data in data_set[0]:\n",
    "    for i in range(len(data)):\n",
    "        print(data[i])\n",
    "       \n",
    "        #word.append(charArray)"
   ]
  },
  {
   "cell_type": "code",
   "execution_count": 200,
   "metadata": {},
   "outputs": [
    {
     "name": "stdout",
     "output_type": "stream",
     "text": [
      "L\n",
      "o\n",
      "r\n",
      "e\n",
      "m\n",
      " \n",
      "i\n",
      "p\n",
      "s\n",
      "u\n",
      "m\n",
      " \n",
      "d\n",
      "o\n",
      "l\n"
     ]
    }
   ],
   "source": [
    "word = []\n",
    "for data in data_set[0]:\n",
    "    for i in range(len(data)):\n",
    "        print(data[i])\n",
    "       \n",
    "        #word.append(charArray)"
   ]
  },
  {
   "cell_type": "code",
   "execution_count": 200,
   "metadata": {},
   "outputs": [
    {
     "name": "stdout",
     "output_type": "stream",
     "text": [
      "L\n",
      "o\n",
      "r\n",
      "e\n",
      "m\n",
      " \n",
      "i\n",
      "p\n",
      "s\n",
      "u\n",
      "m\n",
      " \n",
      "d\n",
      "o\n",
      "l\n"
     ]
    }
   ],
   "source": [
    "word = []\n",
    "for data in data_set[0]:\n",
    "    for i in range(len(data)):\n",
    "        print(data[i])\n",
    "       \n",
    "        #word.append(charArray)"
   ]
  },
  {
   "cell_type": "code",
   "execution_count": 200,
   "metadata": {},
   "outputs": [
    {
     "name": "stdout",
     "output_type": "stream",
     "text": [
      "L\n",
      "o\n",
      "r\n",
      "e\n",
      "m\n",
      " \n",
      "i\n",
      "p\n",
      "s\n",
      "u\n",
      "m\n",
      " \n",
      "d\n",
      "o\n",
      "l\n"
     ]
    }
   ],
   "source": [
    "word = []\n",
    "for data in data_set[0]:\n",
    "    for i in range(len(data)):\n",
    "        print(data[i])\n",
    "       \n",
    "        #word.append(charArray)"
   ]
  },
  {
   "cell_type": "code",
   "execution_count": 200,
   "metadata": {},
   "outputs": [
    {
     "name": "stdout",
     "output_type": "stream",
     "text": [
      "L\n",
      "o\n",
      "r\n",
      "e\n",
      "m\n",
      " \n",
      "i\n",
      "p\n",
      "s\n",
      "u\n",
      "m\n",
      " \n",
      "d\n",
      "o\n",
      "l\n"
     ]
    }
   ],
   "source": [
    "word = []\n",
    "for data in data_set[0]:\n",
    "    for i in range(len(data)):\n",
    "        print(data[i])\n",
    "       \n",
    "        #word.append(charArray)"
   ]
  },
  {
   "cell_type": "code",
   "execution_count": 200,
   "metadata": {},
   "outputs": [
    {
     "name": "stdout",
     "output_type": "stream",
     "text": [
      "L\n",
      "o\n",
      "r\n",
      "e\n",
      "m\n",
      " \n",
      "i\n",
      "p\n",
      "s\n",
      "u\n",
      "m\n",
      " \n",
      "d\n",
      "o\n",
      "l\n"
     ]
    }
   ],
   "source": [
    "word = []\n",
    "for data in data_set[0]:\n",
    "    for i in range(len(data)):\n",
    "        print(data[i])\n",
    "       \n",
    "        #word.append(charArray)"
   ]
  },
  {
   "cell_type": "code",
   "execution_count": 200,
   "metadata": {},
   "outputs": [
    {
     "name": "stdout",
     "output_type": "stream",
     "text": [
      "L\n",
      "o\n",
      "r\n",
      "e\n",
      "m\n",
      " \n",
      "i\n",
      "p\n",
      "s\n",
      "u\n",
      "m\n",
      " \n",
      "d\n",
      "o\n",
      "l\n"
     ]
    }
   ],
   "source": [
    "word = []\n",
    "for data in data_set[0]:\n",
    "    for i in range(len(data)):\n",
    "        print(data[i])\n",
    "       \n",
    "        #word.append(charArray)"
   ]
  },
  {
   "cell_type": "code",
   "execution_count": 200,
   "metadata": {},
   "outputs": [
    {
     "name": "stdout",
     "output_type": "stream",
     "text": [
      "L\n",
      "o\n",
      "r\n",
      "e\n",
      "m\n",
      " \n",
      "i\n",
      "p\n",
      "s\n",
      "u\n",
      "m\n",
      " \n",
      "d\n",
      "o\n",
      "l\n"
     ]
    }
   ],
   "source": [
    "word = []\n",
    "for data in data_set[0]:\n",
    "    for i in range(len(data)):\n",
    "        print(data[i])\n",
    "       \n",
    "        #word.append(charArray)"
   ]
  },
  {
   "cell_type": "code",
   "execution_count": 200,
   "metadata": {},
   "outputs": [
    {
     "name": "stdout",
     "output_type": "stream",
     "text": [
      "L\n",
      "o\n",
      "r\n",
      "e\n",
      "m\n",
      " \n",
      "i\n",
      "p\n",
      "s\n",
      "u\n",
      "m\n",
      " \n",
      "d\n",
      "o\n",
      "l\n"
     ]
    }
   ],
   "source": [
    "word = []\n",
    "for data in data_set[0]:\n",
    "    for i in range(len(data)):\n",
    "        print(data[i])\n",
    "       \n",
    "        #word.append(charArray)"
   ]
  },
  {
   "cell_type": "code",
   "execution_count": 200,
   "metadata": {},
   "outputs": [
    {
     "name": "stdout",
     "output_type": "stream",
     "text": [
      "L\n",
      "o\n",
      "r\n",
      "e\n",
      "m\n",
      " \n",
      "i\n",
      "p\n",
      "s\n",
      "u\n",
      "m\n",
      " \n",
      "d\n",
      "o\n",
      "l\n"
     ]
    }
   ],
   "source": [
    "word = []\n",
    "for data in data_set[0]:\n",
    "    for i in range(len(data)):\n",
    "        print(data[i])\n",
    "       \n",
    "        #word.append(charArray)"
   ]
  },
  {
   "cell_type": "code",
   "execution_count": 200,
   "metadata": {},
   "outputs": [
    {
     "name": "stdout",
     "output_type": "stream",
     "text": [
      "L\n",
      "o\n",
      "r\n",
      "e\n",
      "m\n",
      " \n",
      "i\n",
      "p\n",
      "s\n",
      "u\n",
      "m\n",
      " \n",
      "d\n",
      "o\n",
      "l\n"
     ]
    }
   ],
   "source": [
    "word = []\n",
    "for data in data_set[0]:\n",
    "    for i in range(len(data)):\n",
    "        print(data[i])\n",
    "       \n",
    "        #word.append(charArray)"
   ]
  },
  {
   "cell_type": "code",
   "execution_count": 200,
   "metadata": {},
   "outputs": [
    {
     "name": "stdout",
     "output_type": "stream",
     "text": [
      "L\n",
      "o\n",
      "r\n",
      "e\n",
      "m\n",
      " \n",
      "i\n",
      "p\n",
      "s\n",
      "u\n",
      "m\n",
      " \n",
      "d\n",
      "o\n",
      "l\n"
     ]
    }
   ],
   "source": [
    "word = []\n",
    "for data in data_set[0]:\n",
    "    for i in range(len(data)):\n",
    "        print(data[i])\n",
    "       \n",
    "        #word.append(charArray)"
   ]
  },
  {
   "cell_type": "code",
   "execution_count": 200,
   "metadata": {},
   "outputs": [
    {
     "name": "stdout",
     "output_type": "stream",
     "text": [
      "L\n",
      "o\n",
      "r\n",
      "e\n",
      "m\n",
      " \n",
      "i\n",
      "p\n",
      "s\n",
      "u\n",
      "m\n",
      " \n",
      "d\n",
      "o\n",
      "l\n"
     ]
    }
   ],
   "source": [
    "word = []\n",
    "for data in data_set[0]:\n",
    "    for i in range(len(data)):\n",
    "        print(data[i])\n",
    "       \n",
    "        #word.append(charArray)"
   ]
  },
  {
   "cell_type": "code",
   "execution_count": 200,
   "metadata": {},
   "outputs": [
    {
     "name": "stdout",
     "output_type": "stream",
     "text": [
      "L\n",
      "o\n",
      "r\n",
      "e\n",
      "m\n",
      " \n",
      "i\n",
      "p\n",
      "s\n",
      "u\n",
      "m\n",
      " \n",
      "d\n",
      "o\n",
      "l\n"
     ]
    }
   ],
   "source": [
    "word = []\n",
    "for data in data_set[0]:\n",
    "    for i in range(len(data)):\n",
    "        print(data[i])\n",
    "       \n",
    "        #word.append(charArray)"
   ]
  },
  {
   "cell_type": "code",
   "execution_count": 200,
   "metadata": {},
   "outputs": [
    {
     "name": "stdout",
     "output_type": "stream",
     "text": [
      "L\n",
      "o\n",
      "r\n",
      "e\n",
      "m\n",
      " \n",
      "i\n",
      "p\n",
      "s\n",
      "u\n",
      "m\n",
      " \n",
      "d\n",
      "o\n",
      "l\n"
     ]
    }
   ],
   "source": [
    "word = []\n",
    "for data in data_set[0]:\n",
    "    for i in range(len(data)):\n",
    "        print(data[i])\n",
    "       \n",
    "        #word.append(charArray)"
   ]
  },
  {
   "cell_type": "code",
   "execution_count": 200,
   "metadata": {},
   "outputs": [
    {
     "name": "stdout",
     "output_type": "stream",
     "text": [
      "L\n",
      "o\n",
      "r\n",
      "e\n",
      "m\n",
      " \n",
      "i\n",
      "p\n",
      "s\n",
      "u\n",
      "m\n",
      " \n",
      "d\n",
      "o\n",
      "l\n"
     ]
    }
   ],
   "source": [
    "word = []\n",
    "for data in data_set[0]:\n",
    "    for i in range(len(data)):\n",
    "        print(data[i])\n",
    "       \n",
    "        #word.append(charArray)"
   ]
  },
  {
   "cell_type": "code",
   "execution_count": 200,
   "metadata": {},
   "outputs": [
    {
     "name": "stdout",
     "output_type": "stream",
     "text": [
      "L\n",
      "o\n",
      "r\n",
      "e\n",
      "m\n",
      " \n",
      "i\n",
      "p\n",
      "s\n",
      "u\n",
      "m\n",
      " \n",
      "d\n",
      "o\n",
      "l\n"
     ]
    }
   ],
   "source": [
    "word = []\n",
    "for data in data_set[0]:\n",
    "    for i in range(len(data)):\n",
    "        print(data[i])\n",
    "       \n",
    "        #word.append(charArray)"
   ]
  },
  {
   "cell_type": "code",
   "execution_count": 200,
   "metadata": {},
   "outputs": [
    {
     "name": "stdout",
     "output_type": "stream",
     "text": [
      "L\n",
      "o\n",
      "r\n",
      "e\n",
      "m\n",
      " \n",
      "i\n",
      "p\n",
      "s\n",
      "u\n",
      "m\n",
      " \n",
      "d\n",
      "o\n",
      "l\n"
     ]
    }
   ],
   "source": [
    "word = []\n",
    "for data in data_set[0]:\n",
    "    for i in range(len(data)):\n",
    "        print(data[i])\n",
    "       \n",
    "        #word.append(charArray)"
   ]
  },
  {
   "cell_type": "code",
   "execution_count": 200,
   "metadata": {},
   "outputs": [
    {
     "name": "stdout",
     "output_type": "stream",
     "text": [
      "L\n",
      "o\n",
      "r\n",
      "e\n",
      "m\n",
      " \n",
      "i\n",
      "p\n",
      "s\n",
      "u\n",
      "m\n",
      " \n",
      "d\n",
      "o\n",
      "l\n"
     ]
    }
   ],
   "source": [
    "word = []\n",
    "for data in data_set[0]:\n",
    "    for i in range(len(data)):\n",
    "        print(data[i])\n",
    "       \n",
    "        #word.append(charArray)"
   ]
  },
  {
   "cell_type": "code",
   "execution_count": 200,
   "metadata": {},
   "outputs": [
    {
     "name": "stdout",
     "output_type": "stream",
     "text": [
      "L\n",
      "o\n",
      "r\n",
      "e\n",
      "m\n",
      " \n",
      "i\n",
      "p\n",
      "s\n",
      "u\n",
      "m\n",
      " \n",
      "d\n",
      "o\n",
      "l\n"
     ]
    }
   ],
   "source": [
    "word = []\n",
    "for data in data_set[0]:\n",
    "    for i in range(len(data)):\n",
    "        print(data[i])\n",
    "       \n",
    "        #word.append(charArray)"
   ]
  },
  {
   "cell_type": "code",
   "execution_count": 200,
   "metadata": {},
   "outputs": [
    {
     "name": "stdout",
     "output_type": "stream",
     "text": [
      "L\n",
      "o\n",
      "r\n",
      "e\n",
      "m\n",
      " \n",
      "i\n",
      "p\n",
      "s\n",
      "u\n",
      "m\n",
      " \n",
      "d\n",
      "o\n",
      "l\n"
     ]
    }
   ],
   "source": [
    "word = []\n",
    "for data in data_set[0]:\n",
    "    for i in range(len(data)):\n",
    "        print(data[i])\n",
    "       \n",
    "        #word.append(charArray)"
   ]
  },
  {
   "cell_type": "code",
   "execution_count": 200,
   "metadata": {},
   "outputs": [
    {
     "name": "stdout",
     "output_type": "stream",
     "text": [
      "L\n",
      "o\n",
      "r\n",
      "e\n",
      "m\n",
      " \n",
      "i\n",
      "p\n",
      "s\n",
      "u\n",
      "m\n",
      " \n",
      "d\n",
      "o\n",
      "l\n"
     ]
    }
   ],
   "source": [
    "word = []\n",
    "for data in data_set[0]:\n",
    "    for i in range(len(data)):\n",
    "        print(data[i])\n",
    "       \n",
    "        #word.append(charArray)"
   ]
  },
  {
   "cell_type": "code",
   "execution_count": 200,
   "metadata": {},
   "outputs": [
    {
     "name": "stdout",
     "output_type": "stream",
     "text": [
      "L\n",
      "o\n",
      "r\n",
      "e\n",
      "m\n",
      " \n",
      "i\n",
      "p\n",
      "s\n",
      "u\n",
      "m\n",
      " \n",
      "d\n",
      "o\n",
      "l\n"
     ]
    }
   ],
   "source": [
    "word = []\n",
    "for data in data_set[0]:\n",
    "    for i in range(len(data)):\n",
    "        print(data[i])\n",
    "       \n",
    "        #word.append(charArray)"
   ]
  },
  {
   "cell_type": "code",
   "execution_count": 200,
   "metadata": {},
   "outputs": [
    {
     "name": "stdout",
     "output_type": "stream",
     "text": [
      "L\n",
      "o\n",
      "r\n",
      "e\n",
      "m\n",
      " \n",
      "i\n",
      "p\n",
      "s\n",
      "u\n",
      "m\n",
      " \n",
      "d\n",
      "o\n",
      "l\n"
     ]
    }
   ],
   "source": [
    "word = []\n",
    "for data in data_set[0]:\n",
    "    for i in range(len(data)):\n",
    "        print(data[i])\n",
    "       \n",
    "        #word.append(charArray)"
   ]
  },
  {
   "cell_type": "code",
   "execution_count": 200,
   "metadata": {},
   "outputs": [
    {
     "name": "stdout",
     "output_type": "stream",
     "text": [
      "L\n",
      "o\n",
      "r\n",
      "e\n",
      "m\n",
      " \n",
      "i\n",
      "p\n",
      "s\n",
      "u\n",
      "m\n",
      " \n",
      "d\n",
      "o\n",
      "l\n"
     ]
    }
   ],
   "source": [
    "word = []\n",
    "for data in data_set[0]:\n",
    "    for i in range(len(data)):\n",
    "        print(data[i])\n",
    "       \n",
    "        #word.append(charArray)"
   ]
  },
  {
   "cell_type": "code",
   "execution_count": 200,
   "metadata": {},
   "outputs": [
    {
     "name": "stdout",
     "output_type": "stream",
     "text": [
      "L\n",
      "o\n",
      "r\n",
      "e\n",
      "m\n",
      " \n",
      "i\n",
      "p\n",
      "s\n",
      "u\n",
      "m\n",
      " \n",
      "d\n",
      "o\n",
      "l\n"
     ]
    }
   ],
   "source": [
    "word = []\n",
    "for data in data_set[0]:\n",
    "    for i in range(len(data)):\n",
    "        print(data[i])\n",
    "       \n",
    "        #word.append(charArray)"
   ]
  },
  {
   "cell_type": "code",
   "execution_count": 200,
   "metadata": {},
   "outputs": [
    {
     "name": "stdout",
     "output_type": "stream",
     "text": [
      "L\n",
      "o\n",
      "r\n",
      "e\n",
      "m\n",
      " \n",
      "i\n",
      "p\n",
      "s\n",
      "u\n",
      "m\n",
      " \n",
      "d\n",
      "o\n",
      "l\n"
     ]
    }
   ],
   "source": [
    "word = []\n",
    "for data in data_set[0]:\n",
    "    for i in range(len(data)):\n",
    "        print(data[i])\n",
    "       \n",
    "        #word.append(charArray)"
   ]
  },
  {
   "cell_type": "code",
   "execution_count": 200,
   "metadata": {},
   "outputs": [
    {
     "name": "stdout",
     "output_type": "stream",
     "text": [
      "L\n",
      "o\n",
      "r\n",
      "e\n",
      "m\n",
      " \n",
      "i\n",
      "p\n",
      "s\n",
      "u\n",
      "m\n",
      " \n",
      "d\n",
      "o\n",
      "l\n"
     ]
    }
   ],
   "source": [
    "word = []\n",
    "for data in data_set[0]:\n",
    "    for i in range(len(data)):\n",
    "        print(data[i])\n",
    "       \n",
    "        #word.append(charArray)"
   ]
  },
  {
   "cell_type": "code",
   "execution_count": 200,
   "metadata": {},
   "outputs": [
    {
     "name": "stdout",
     "output_type": "stream",
     "text": [
      "L\n",
      "o\n",
      "r\n",
      "e\n",
      "m\n",
      " \n",
      "i\n",
      "p\n",
      "s\n",
      "u\n",
      "m\n",
      " \n",
      "d\n",
      "o\n",
      "l\n"
     ]
    }
   ],
   "source": [
    "word = []\n",
    "for data in data_set[0]:\n",
    "    for i in range(len(data)):\n",
    "        print(data[i])\n",
    "       \n",
    "        #word.append(charArray)"
   ]
  },
  {
   "cell_type": "code",
   "execution_count": 200,
   "metadata": {},
   "outputs": [
    {
     "name": "stdout",
     "output_type": "stream",
     "text": [
      "L\n",
      "o\n",
      "r\n",
      "e\n",
      "m\n",
      " \n",
      "i\n",
      "p\n",
      "s\n",
      "u\n",
      "m\n",
      " \n",
      "d\n",
      "o\n",
      "l\n"
     ]
    }
   ],
   "source": [
    "word = []\n",
    "for data in data_set[0]:\n",
    "    for i in range(len(data)):\n",
    "        print(data[i])\n",
    "       \n",
    "        #word.append(charArray)"
   ]
  },
  {
   "cell_type": "code",
   "execution_count": 200,
   "metadata": {},
   "outputs": [
    {
     "name": "stdout",
     "output_type": "stream",
     "text": [
      "L\n",
      "o\n",
      "r\n",
      "e\n",
      "m\n",
      " \n",
      "i\n",
      "p\n",
      "s\n",
      "u\n",
      "m\n",
      " \n",
      "d\n",
      "o\n",
      "l\n"
     ]
    }
   ],
   "source": [
    "word = []\n",
    "for data in data_set[0]:\n",
    "    for i in range(len(data)):\n",
    "        print(data[i])\n",
    "       \n",
    "        #word.append(charArray)"
   ]
  },
  {
   "cell_type": "code",
   "execution_count": 200,
   "metadata": {},
   "outputs": [
    {
     "name": "stdout",
     "output_type": "stream",
     "text": [
      "L\n",
      "o\n",
      "r\n",
      "e\n",
      "m\n",
      " \n",
      "i\n",
      "p\n",
      "s\n",
      "u\n",
      "m\n",
      " \n",
      "d\n",
      "o\n",
      "l\n"
     ]
    }
   ],
   "source": [
    "word = []\n",
    "for data in data_set[0]:\n",
    "    for i in range(len(data)):\n",
    "        print(data[i])\n",
    "       \n",
    "        #word.append(charArray)"
   ]
  },
  {
   "cell_type": "code",
   "execution_count": 200,
   "metadata": {},
   "outputs": [
    {
     "name": "stdout",
     "output_type": "stream",
     "text": [
      "L\n",
      "o\n",
      "r\n",
      "e\n",
      "m\n",
      " \n",
      "i\n",
      "p\n",
      "s\n",
      "u\n",
      "m\n",
      " \n",
      "d\n",
      "o\n",
      "l\n"
     ]
    }
   ],
   "source": [
    "word = []\n",
    "for data in data_set[0]:\n",
    "    for i in range(len(data)):\n",
    "        print(data[i])\n",
    "       \n",
    "        #word.append(charArray)"
   ]
  },
  {
   "cell_type": "code",
   "execution_count": 200,
   "metadata": {},
   "outputs": [
    {
     "name": "stdout",
     "output_type": "stream",
     "text": [
      "L\n",
      "o\n",
      "r\n",
      "e\n",
      "m\n",
      " \n",
      "i\n",
      "p\n",
      "s\n",
      "u\n",
      "m\n",
      " \n",
      "d\n",
      "o\n",
      "l\n"
     ]
    }
   ],
   "source": [
    "word = []\n",
    "for data in data_set[0]:\n",
    "    for i in range(len(data)):\n",
    "        print(data[i])\n",
    "       \n",
    "        #word.append(charArray)"
   ]
  },
  {
   "cell_type": "code",
   "execution_count": 200,
   "metadata": {},
   "outputs": [
    {
     "name": "stdout",
     "output_type": "stream",
     "text": [
      "L\n",
      "o\n",
      "r\n",
      "e\n",
      "m\n",
      " \n",
      "i\n",
      "p\n",
      "s\n",
      "u\n",
      "m\n",
      " \n",
      "d\n",
      "o\n",
      "l\n"
     ]
    }
   ],
   "source": [
    "word = []\n",
    "for data in data_set[0]:\n",
    "    for i in range(len(data)):\n",
    "        print(data[i])\n",
    "       \n",
    "        #word.append(charArray)"
   ]
  },
  {
   "cell_type": "code",
   "execution_count": 200,
   "metadata": {},
   "outputs": [
    {
     "name": "stdout",
     "output_type": "stream",
     "text": [
      "L\n",
      "o\n",
      "r\n",
      "e\n",
      "m\n",
      " \n",
      "i\n",
      "p\n",
      "s\n",
      "u\n",
      "m\n",
      " \n",
      "d\n",
      "o\n",
      "l\n"
     ]
    }
   ],
   "source": [
    "word = []\n",
    "for data in data_set[0]:\n",
    "    for i in range(len(data)):\n",
    "        print(data[i])\n",
    "       \n",
    "        #word.append(charArray)"
   ]
  },
  {
   "cell_type": "code",
   "execution_count": 200,
   "metadata": {},
   "outputs": [
    {
     "name": "stdout",
     "output_type": "stream",
     "text": [
      "L\n",
      "o\n",
      "r\n",
      "e\n",
      "m\n",
      " \n",
      "i\n",
      "p\n",
      "s\n",
      "u\n",
      "m\n",
      " \n",
      "d\n",
      "o\n",
      "l\n"
     ]
    }
   ],
   "source": [
    "word = []\n",
    "for data in data_set[0]:\n",
    "    for i in range(len(data)):\n",
    "        print(data[i])\n",
    "       \n",
    "        #word.append(charArray)"
   ]
  },
  {
   "cell_type": "code",
   "execution_count": 200,
   "metadata": {},
   "outputs": [
    {
     "name": "stdout",
     "output_type": "stream",
     "text": [
      "L\n",
      "o\n",
      "r\n",
      "e\n",
      "m\n",
      " \n",
      "i\n",
      "p\n",
      "s\n",
      "u\n",
      "m\n",
      " \n",
      "d\n",
      "o\n",
      "l\n"
     ]
    }
   ],
   "source": [
    "word = []\n",
    "for data in data_set[0]:\n",
    "    for i in range(len(data)):\n",
    "        print(data[i])\n",
    "       \n",
    "        #word.append(charArray)"
   ]
  },
  {
   "cell_type": "code",
   "execution_count": 200,
   "metadata": {},
   "outputs": [
    {
     "name": "stdout",
     "output_type": "stream",
     "text": [
      "L\n",
      "o\n",
      "r\n",
      "e\n",
      "m\n",
      " \n",
      "i\n",
      "p\n",
      "s\n",
      "u\n",
      "m\n",
      " \n",
      "d\n",
      "o\n",
      "l\n"
     ]
    }
   ],
   "source": [
    "word = []\n",
    "for data in data_set[0]:\n",
    "    for i in range(len(data)):\n",
    "        print(data[i])\n",
    "       \n",
    "        #word.append(charArray)"
   ]
  },
  {
   "cell_type": "code",
   "execution_count": 200,
   "metadata": {},
   "outputs": [
    {
     "name": "stdout",
     "output_type": "stream",
     "text": [
      "L\n",
      "o\n",
      "r\n",
      "e\n",
      "m\n",
      " \n",
      "i\n",
      "p\n",
      "s\n",
      "u\n",
      "m\n",
      " \n",
      "d\n",
      "o\n",
      "l\n"
     ]
    }
   ],
   "source": [
    "word = []\n",
    "for data in data_set[0]:\n",
    "    for i in range(len(data)):\n",
    "        print(data[i])\n",
    "       \n",
    "        #word.append(charArray)"
   ]
  },
  {
   "cell_type": "code",
   "execution_count": 200,
   "metadata": {},
   "outputs": [
    {
     "name": "stdout",
     "output_type": "stream",
     "text": [
      "L\n",
      "o\n",
      "r\n",
      "e\n",
      "m\n",
      " \n",
      "i\n",
      "p\n",
      "s\n",
      "u\n",
      "m\n",
      " \n",
      "d\n",
      "o\n",
      "l\n"
     ]
    }
   ],
   "source": [
    "word = []\n",
    "for data in data_set[0]:\n",
    "    for i in range(len(data)):\n",
    "        print(data[i])\n",
    "       \n",
    "        #word.append(charArray)"
   ]
  },
  {
   "cell_type": "code",
   "execution_count": 200,
   "metadata": {},
   "outputs": [
    {
     "name": "stdout",
     "output_type": "stream",
     "text": [
      "L\n",
      "o\n",
      "r\n",
      "e\n",
      "m\n",
      " \n",
      "i\n",
      "p\n",
      "s\n",
      "u\n",
      "m\n",
      " \n",
      "d\n",
      "o\n",
      "l\n"
     ]
    }
   ],
   "source": [
    "word = []\n",
    "for data in data_set[0]:\n",
    "    for i in range(len(data)):\n",
    "        print(data[i])\n",
    "       \n",
    "        #word.append(charArray)"
   ]
  },
  {
   "cell_type": "code",
   "execution_count": 200,
   "metadata": {},
   "outputs": [
    {
     "name": "stdout",
     "output_type": "stream",
     "text": [
      "L\n",
      "o\n",
      "r\n",
      "e\n",
      "m\n",
      " \n",
      "i\n",
      "p\n",
      "s\n",
      "u\n",
      "m\n",
      " \n",
      "d\n",
      "o\n",
      "l\n"
     ]
    }
   ],
   "source": [
    "word = []\n",
    "for data in data_set[0]:\n",
    "    for i in range(len(data)):\n",
    "        print(data[i])\n",
    "       \n",
    "        #word.append(charArray)"
   ]
  },
  {
   "cell_type": "code",
   "execution_count": 200,
   "metadata": {},
   "outputs": [
    {
     "name": "stdout",
     "output_type": "stream",
     "text": [
      "L\n",
      "o\n",
      "r\n",
      "e\n",
      "m\n",
      " \n",
      "i\n",
      "p\n",
      "s\n",
      "u\n",
      "m\n",
      " \n",
      "d\n",
      "o\n",
      "l\n"
     ]
    }
   ],
   "source": [
    "word = []\n",
    "for data in data_set[0]:\n",
    "    for i in range(len(data)):\n",
    "        print(data[i])\n",
    "       \n",
    "        #word.append(charArray)"
   ]
  },
  {
   "cell_type": "code",
   "execution_count": 200,
   "metadata": {},
   "outputs": [
    {
     "name": "stdout",
     "output_type": "stream",
     "text": [
      "L\n",
      "o\n",
      "r\n",
      "e\n",
      "m\n",
      " \n",
      "i\n",
      "p\n",
      "s\n",
      "u\n",
      "m\n",
      " \n",
      "d\n",
      "o\n",
      "l\n"
     ]
    }
   ],
   "source": [
    "word = []\n",
    "for data in data_set[0]:\n",
    "    for i in range(len(data)):\n",
    "        print(data[i])\n",
    "       \n",
    "        #word.append(charArray)"
   ]
  },
  {
   "cell_type": "code",
   "execution_count": 200,
   "metadata": {},
   "outputs": [
    {
     "name": "stdout",
     "output_type": "stream",
     "text": [
      "L\n",
      "o\n",
      "r\n",
      "e\n",
      "m\n",
      " \n",
      "i\n",
      "p\n",
      "s\n",
      "u\n",
      "m\n",
      " \n",
      "d\n",
      "o\n",
      "l\n"
     ]
    }
   ],
   "source": [
    "word = []\n",
    "for data in data_set[0]:\n",
    "    for i in range(len(data)):\n",
    "        print(data[i])\n",
    "       \n",
    "        #word.append(charArray)"
   ]
  },
  {
   "cell_type": "code",
   "execution_count": 200,
   "metadata": {},
   "outputs": [
    {
     "name": "stdout",
     "output_type": "stream",
     "text": [
      "L\n",
      "o\n",
      "r\n",
      "e\n",
      "m\n",
      " \n",
      "i\n",
      "p\n",
      "s\n",
      "u\n",
      "m\n",
      " \n",
      "d\n",
      "o\n",
      "l\n"
     ]
    }
   ],
   "source": [
    "word = []\n",
    "for data in data_set[0]:\n",
    "    for i in range(len(data)):\n",
    "        print(data[i])\n",
    "       \n",
    "        #word.append(charArray)"
   ]
  },
  {
   "cell_type": "code",
   "execution_count": 200,
   "metadata": {},
   "outputs": [
    {
     "name": "stdout",
     "output_type": "stream",
     "text": [
      "L\n",
      "o\n",
      "r\n",
      "e\n",
      "m\n",
      " \n",
      "i\n",
      "p\n",
      "s\n",
      "u\n",
      "m\n",
      " \n",
      "d\n",
      "o\n",
      "l\n"
     ]
    }
   ],
   "source": [
    "word = []\n",
    "for data in data_set[0]:\n",
    "    for i in range(len(data)):\n",
    "        print(data[i])\n",
    "       \n",
    "        #word.append(charArray)"
   ]
  },
  {
   "cell_type": "code",
   "execution_count": 200,
   "metadata": {},
   "outputs": [
    {
     "name": "stdout",
     "output_type": "stream",
     "text": [
      "L\n",
      "o\n",
      "r\n",
      "e\n",
      "m\n",
      " \n",
      "i\n",
      "p\n",
      "s\n",
      "u\n",
      "m\n",
      " \n",
      "d\n",
      "o\n",
      "l\n"
     ]
    }
   ],
   "source": [
    "word = []\n",
    "for data in data_set[0]:\n",
    "    for i in range(len(data)):\n",
    "        print(data[i])\n",
    "       \n",
    "        #word.append(charArray)"
   ]
  },
  {
   "cell_type": "code",
   "execution_count": 200,
   "metadata": {},
   "outputs": [
    {
     "name": "stdout",
     "output_type": "stream",
     "text": [
      "L\n",
      "o\n",
      "r\n",
      "e\n",
      "m\n",
      " \n",
      "i\n",
      "p\n",
      "s\n",
      "u\n",
      "m\n",
      " \n",
      "d\n",
      "o\n",
      "l\n"
     ]
    }
   ],
   "source": [
    "word = []\n",
    "for data in data_set[0]:\n",
    "    for i in range(len(data)):\n",
    "        print(data[i])\n",
    "       \n",
    "        #word.append(charArray)"
   ]
  },
  {
   "cell_type": "code",
   "execution_count": 200,
   "metadata": {},
   "outputs": [
    {
     "name": "stdout",
     "output_type": "stream",
     "text": [
      "L\n",
      "o\n",
      "r\n",
      "e\n",
      "m\n",
      " \n",
      "i\n",
      "p\n",
      "s\n",
      "u\n",
      "m\n",
      " \n",
      "d\n",
      "o\n",
      "l\n"
     ]
    }
   ],
   "source": [
    "word = []\n",
    "for data in data_set[0]:\n",
    "    for i in range(len(data)):\n",
    "        print(data[i])\n",
    "       \n",
    "        #word.append(charArray)"
   ]
  },
  {
   "cell_type": "code",
   "execution_count": 200,
   "metadata": {},
   "outputs": [
    {
     "name": "stdout",
     "output_type": "stream",
     "text": [
      "L\n",
      "o\n",
      "r\n",
      "e\n",
      "m\n",
      " \n",
      "i\n",
      "p\n",
      "s\n",
      "u\n",
      "m\n",
      " \n",
      "d\n",
      "o\n",
      "l\n"
     ]
    }
   ],
   "source": [
    "word = []\n",
    "for data in data_set[0]:\n",
    "    for i in range(len(data)):\n",
    "        print(data[i])\n",
    "       \n",
    "        #word.append(charArray)"
   ]
  },
  {
   "cell_type": "code",
   "execution_count": 200,
   "metadata": {},
   "outputs": [
    {
     "name": "stdout",
     "output_type": "stream",
     "text": [
      "L\n",
      "o\n",
      "r\n",
      "e\n",
      "m\n",
      " \n",
      "i\n",
      "p\n",
      "s\n",
      "u\n",
      "m\n",
      " \n",
      "d\n",
      "o\n",
      "l\n"
     ]
    }
   ],
   "source": [
    "word = []\n",
    "for data in data_set[0]:\n",
    "    for i in range(len(data)):\n",
    "        print(data[i])\n",
    "       \n",
    "        #word.append(charArray)"
   ]
  },
  {
   "cell_type": "code",
   "execution_count": 200,
   "metadata": {},
   "outputs": [
    {
     "name": "stdout",
     "output_type": "stream",
     "text": [
      "L\n",
      "o\n",
      "r\n",
      "e\n",
      "m\n",
      " \n",
      "i\n",
      "p\n",
      "s\n",
      "u\n",
      "m\n",
      " \n",
      "d\n",
      "o\n",
      "l\n"
     ]
    }
   ],
   "source": [
    "word = []\n",
    "for data in data_set[0]:\n",
    "    for i in range(len(data)):\n",
    "        print(data[i])\n",
    "       \n",
    "        #word.append(charArray)"
   ]
  },
  {
   "cell_type": "code",
   "execution_count": 200,
   "metadata": {},
   "outputs": [
    {
     "name": "stdout",
     "output_type": "stream",
     "text": [
      "L\n",
      "o\n",
      "r\n",
      "e\n",
      "m\n",
      " \n",
      "i\n",
      "p\n",
      "s\n",
      "u\n",
      "m\n",
      " \n",
      "d\n",
      "o\n",
      "l\n"
     ]
    }
   ],
   "source": [
    "word = []\n",
    "for data in data_set[0]:\n",
    "    for i in range(len(data)):\n",
    "        print(data[i])\n",
    "       \n",
    "        #word.append(charArray)"
   ]
  },
  {
   "cell_type": "code",
   "execution_count": 200,
   "metadata": {},
   "outputs": [
    {
     "name": "stdout",
     "output_type": "stream",
     "text": [
      "L\n",
      "o\n",
      "r\n",
      "e\n",
      "m\n",
      " \n",
      "i\n",
      "p\n",
      "s\n",
      "u\n",
      "m\n",
      " \n",
      "d\n",
      "o\n",
      "l\n"
     ]
    }
   ],
   "source": [
    "word = []\n",
    "for data in data_set[0]:\n",
    "    for i in range(len(data)):\n",
    "        print(data[i])\n",
    "       \n",
    "        #word.append(charArray)"
   ]
  },
  {
   "cell_type": "code",
   "execution_count": 200,
   "metadata": {},
   "outputs": [
    {
     "name": "stdout",
     "output_type": "stream",
     "text": [
      "L\n",
      "o\n",
      "r\n",
      "e\n",
      "m\n",
      " \n",
      "i\n",
      "p\n",
      "s\n",
      "u\n",
      "m\n",
      " \n",
      "d\n",
      "o\n",
      "l\n"
     ]
    }
   ],
   "source": [
    "word = []\n",
    "for data in data_set[0]:\n",
    "    for i in range(len(data)):\n",
    "        print(data[i])\n",
    "       \n",
    "        #word.append(charArray)"
   ]
  },
  {
   "cell_type": "code",
   "execution_count": 200,
   "metadata": {},
   "outputs": [
    {
     "name": "stdout",
     "output_type": "stream",
     "text": [
      "L\n",
      "o\n",
      "r\n",
      "e\n",
      "m\n",
      " \n",
      "i\n",
      "p\n",
      "s\n",
      "u\n",
      "m\n",
      " \n",
      "d\n",
      "o\n",
      "l\n"
     ]
    }
   ],
   "source": [
    "word = []\n",
    "for data in data_set[0]:\n",
    "    for i in range(len(data)):\n",
    "        print(data[i])\n",
    "       \n",
    "        #word.append(charArray)"
   ]
  },
  {
   "cell_type": "code",
   "execution_count": 200,
   "metadata": {},
   "outputs": [
    {
     "name": "stdout",
     "output_type": "stream",
     "text": [
      "L\n",
      "o\n",
      "r\n",
      "e\n",
      "m\n",
      " \n",
      "i\n",
      "p\n",
      "s\n",
      "u\n",
      "m\n",
      " \n",
      "d\n",
      "o\n",
      "l\n"
     ]
    }
   ],
   "source": [
    "word = []\n",
    "for data in data_set[0]:\n",
    "    for i in range(len(data)):\n",
    "        print(data[i])\n",
    "       \n",
    "        #word.append(charArray)"
   ]
  },
  {
   "cell_type": "code",
   "execution_count": 200,
   "metadata": {},
   "outputs": [
    {
     "name": "stdout",
     "output_type": "stream",
     "text": [
      "L\n",
      "o\n",
      "r\n",
      "e\n",
      "m\n",
      " \n",
      "i\n",
      "p\n",
      "s\n",
      "u\n",
      "m\n",
      " \n",
      "d\n",
      "o\n",
      "l\n"
     ]
    }
   ],
   "source": [
    "word = []\n",
    "for data in data_set[0]:\n",
    "    for i in range(len(data)):\n",
    "        print(data[i])\n",
    "       \n",
    "        #word.append(charArray)"
   ]
  },
  {
   "cell_type": "code",
   "execution_count": 200,
   "metadata": {},
   "outputs": [
    {
     "name": "stdout",
     "output_type": "stream",
     "text": [
      "L\n",
      "o\n",
      "r\n",
      "e\n",
      "m\n",
      " \n",
      "i\n",
      "p\n",
      "s\n",
      "u\n",
      "m\n",
      " \n",
      "d\n",
      "o\n",
      "l\n"
     ]
    }
   ],
   "source": [
    "word = []\n",
    "for data in data_set[0]:\n",
    "    for i in range(len(data)):\n",
    "        print(data[i])\n",
    "       \n",
    "        #word.append(charArray)"
   ]
  },
  {
   "cell_type": "code",
   "execution_count": 200,
   "metadata": {},
   "outputs": [
    {
     "name": "stdout",
     "output_type": "stream",
     "text": [
      "L\n",
      "o\n",
      "r\n",
      "e\n",
      "m\n",
      " \n",
      "i\n",
      "p\n",
      "s\n",
      "u\n",
      "m\n",
      " \n",
      "d\n",
      "o\n",
      "l\n"
     ]
    }
   ],
   "source": [
    "word = []\n",
    "for data in data_set[0]:\n",
    "    for i in range(len(data)):\n",
    "        print(data[i])\n",
    "       \n",
    "        #word.append(charArray)"
   ]
  },
  {
   "cell_type": "code",
   "execution_count": 200,
   "metadata": {},
   "outputs": [
    {
     "name": "stdout",
     "output_type": "stream",
     "text": [
      "L\n",
      "o\n",
      "r\n",
      "e\n",
      "m\n",
      " \n",
      "i\n",
      "p\n",
      "s\n",
      "u\n",
      "m\n",
      " \n",
      "d\n",
      "o\n",
      "l\n"
     ]
    }
   ],
   "source": [
    "word = []\n",
    "for data in data_set[0]:\n",
    "    for i in range(len(data)):\n",
    "        print(data[i])\n",
    "       \n",
    "        #word.append(charArray)"
   ]
  },
  {
   "cell_type": "code",
   "execution_count": 200,
   "metadata": {},
   "outputs": [
    {
     "name": "stdout",
     "output_type": "stream",
     "text": [
      "L\n",
      "o\n",
      "r\n",
      "e\n",
      "m\n",
      " \n",
      "i\n",
      "p\n",
      "s\n",
      "u\n",
      "m\n",
      " \n",
      "d\n",
      "o\n",
      "l\n"
     ]
    }
   ],
   "source": [
    "word = []\n",
    "for data in data_set[0]:\n",
    "    for i in range(len(data)):\n",
    "        print(data[i])\n",
    "       \n",
    "        #word.append(charArray)"
   ]
  },
  {
   "cell_type": "code",
   "execution_count": 200,
   "metadata": {},
   "outputs": [
    {
     "name": "stdout",
     "output_type": "stream",
     "text": [
      "L\n",
      "o\n",
      "r\n",
      "e\n",
      "m\n",
      " \n",
      "i\n",
      "p\n",
      "s\n",
      "u\n",
      "m\n",
      " \n",
      "d\n",
      "o\n",
      "l\n"
     ]
    }
   ],
   "source": [
    "word = []\n",
    "for data in data_set[0]:\n",
    "    for i in range(len(data)):\n",
    "        print(data[i])\n",
    "       \n",
    "        #word.append(charArray)"
   ]
  },
  {
   "cell_type": "code",
   "execution_count": 200,
   "metadata": {},
   "outputs": [
    {
     "name": "stdout",
     "output_type": "stream",
     "text": [
      "L\n",
      "o\n",
      "r\n",
      "e\n",
      "m\n",
      " \n",
      "i\n",
      "p\n",
      "s\n",
      "u\n",
      "m\n",
      " \n",
      "d\n",
      "o\n",
      "l\n"
     ]
    }
   ],
   "source": [
    "word = []\n",
    "for data in data_set[0]:\n",
    "    for i in range(len(data)):\n",
    "        print(data[i])\n",
    "       \n",
    "        #word.append(charArray)"
   ]
  },
  {
   "cell_type": "code",
   "execution_count": 200,
   "metadata": {},
   "outputs": [
    {
     "name": "stdout",
     "output_type": "stream",
     "text": [
      "L\n",
      "o\n",
      "r\n",
      "e\n",
      "m\n",
      " \n",
      "i\n",
      "p\n",
      "s\n",
      "u\n",
      "m\n",
      " \n",
      "d\n",
      "o\n",
      "l\n"
     ]
    }
   ],
   "source": [
    "word = []\n",
    "for data in data_set[0]:\n",
    "    for i in range(len(data)):\n",
    "        print(data[i])\n",
    "       \n",
    "        #word.append(charArray)"
   ]
  },
  {
   "cell_type": "code",
   "execution_count": 200,
   "metadata": {},
   "outputs": [
    {
     "name": "stdout",
     "output_type": "stream",
     "text": [
      "L\n",
      "o\n",
      "r\n",
      "e\n",
      "m\n",
      " \n",
      "i\n",
      "p\n",
      "s\n",
      "u\n",
      "m\n",
      " \n",
      "d\n",
      "o\n",
      "l\n"
     ]
    }
   ],
   "source": [
    "word = []\n",
    "for data in data_set[0]:\n",
    "    for i in range(len(data)):\n",
    "        print(data[i])\n",
    "       \n",
    "        #word.append(charArray)"
   ]
  },
  {
   "cell_type": "code",
   "execution_count": 200,
   "metadata": {},
   "outputs": [
    {
     "name": "stdout",
     "output_type": "stream",
     "text": [
      "L\n",
      "o\n",
      "r\n",
      "e\n",
      "m\n",
      " \n",
      "i\n",
      "p\n",
      "s\n",
      "u\n",
      "m\n",
      " \n",
      "d\n",
      "o\n",
      "l\n"
     ]
    }
   ],
   "source": [
    "word = []\n",
    "for data in data_set[0]:\n",
    "    for i in range(len(data)):\n",
    "        print(data[i])\n",
    "       \n",
    "        #word.append(charArray)"
   ]
  },
  {
   "cell_type": "code",
   "execution_count": 200,
   "metadata": {},
   "outputs": [
    {
     "name": "stdout",
     "output_type": "stream",
     "text": [
      "L\n",
      "o\n",
      "r\n",
      "e\n",
      "m\n",
      " \n",
      "i\n",
      "p\n",
      "s\n",
      "u\n",
      "m\n",
      " \n",
      "d\n",
      "o\n",
      "l\n"
     ]
    }
   ],
   "source": [
    "word = []\n",
    "for data in data_set[0]:\n",
    "    for i in range(len(data)):\n",
    "        print(data[i])\n",
    "       \n",
    "        #word.append(charArray)"
   ]
  },
  {
   "cell_type": "code",
   "execution_count": 200,
   "metadata": {},
   "outputs": [
    {
     "name": "stdout",
     "output_type": "stream",
     "text": [
      "L\n",
      "o\n",
      "r\n",
      "e\n",
      "m\n",
      " \n",
      "i\n",
      "p\n",
      "s\n",
      "u\n",
      "m\n",
      " \n",
      "d\n",
      "o\n",
      "l\n"
     ]
    }
   ],
   "source": [
    "word = []\n",
    "for data in data_set[0]:\n",
    "    for i in range(len(data)):\n",
    "        print(data[i])\n",
    "       \n",
    "        #word.append(charArray)"
   ]
  },
  {
   "cell_type": "code",
   "execution_count": 200,
   "metadata": {},
   "outputs": [
    {
     "name": "stdout",
     "output_type": "stream",
     "text": [
      "L\n",
      "o\n",
      "r\n",
      "e\n",
      "m\n",
      " \n",
      "i\n",
      "p\n",
      "s\n",
      "u\n",
      "m\n",
      " \n",
      "d\n",
      "o\n",
      "l\n"
     ]
    }
   ],
   "source": [
    "word = []\n",
    "for data in data_set[0]:\n",
    "    for i in range(len(data)):\n",
    "        print(data[i])\n",
    "       \n",
    "        #word.append(charArray)"
   ]
  },
  {
   "cell_type": "code",
   "execution_count": 200,
   "metadata": {},
   "outputs": [
    {
     "name": "stdout",
     "output_type": "stream",
     "text": [
      "L\n",
      "o\n",
      "r\n",
      "e\n",
      "m\n",
      " \n",
      "i\n",
      "p\n",
      "s\n",
      "u\n",
      "m\n",
      " \n",
      "d\n",
      "o\n",
      "l\n"
     ]
    }
   ],
   "source": [
    "word = []\n",
    "for data in data_set[0]:\n",
    "    for i in range(len(data)):\n",
    "        print(data[i])\n",
    "       \n",
    "        #word.append(charArray)"
   ]
  },
  {
   "cell_type": "code",
   "execution_count": 200,
   "metadata": {},
   "outputs": [
    {
     "name": "stdout",
     "output_type": "stream",
     "text": [
      "L\n",
      "o\n",
      "r\n",
      "e\n",
      "m\n",
      " \n",
      "i\n",
      "p\n",
      "s\n",
      "u\n",
      "m\n",
      " \n",
      "d\n",
      "o\n",
      "l\n"
     ]
    }
   ],
   "source": [
    "word = []\n",
    "for data in data_set[0]:\n",
    "    for i in range(len(data)):\n",
    "        print(data[i])\n",
    "       \n",
    "        #word.append(charArray)"
   ]
  },
  {
   "cell_type": "code",
   "execution_count": 200,
   "metadata": {},
   "outputs": [
    {
     "name": "stdout",
     "output_type": "stream",
     "text": [
      "L\n",
      "o\n",
      "r\n",
      "e\n",
      "m\n",
      " \n",
      "i\n",
      "p\n",
      "s\n",
      "u\n",
      "m\n",
      " \n",
      "d\n",
      "o\n",
      "l\n"
     ]
    }
   ],
   "source": [
    "word = []\n",
    "for data in data_set[0]:\n",
    "    for i in range(len(data)):\n",
    "        print(data[i])\n",
    "       \n",
    "        #word.append(charArray)"
   ]
  },
  {
   "cell_type": "code",
   "execution_count": 200,
   "metadata": {},
   "outputs": [
    {
     "name": "stdout",
     "output_type": "stream",
     "text": [
      "L\n",
      "o\n",
      "r\n",
      "e\n",
      "m\n",
      " \n",
      "i\n",
      "p\n",
      "s\n",
      "u\n",
      "m\n",
      " \n",
      "d\n",
      "o\n",
      "l\n"
     ]
    }
   ],
   "source": [
    "word = []\n",
    "for data in data_set[0]:\n",
    "    for i in range(len(data)):\n",
    "        print(data[i])\n",
    "       \n",
    "        #word.append(charArray)"
   ]
  },
  {
   "cell_type": "code",
   "execution_count": 200,
   "metadata": {},
   "outputs": [
    {
     "name": "stdout",
     "output_type": "stream",
     "text": [
      "L\n",
      "o\n",
      "r\n",
      "e\n",
      "m\n",
      " \n",
      "i\n",
      "p\n",
      "s\n",
      "u\n",
      "m\n",
      " \n",
      "d\n",
      "o\n",
      "l\n"
     ]
    }
   ],
   "source": [
    "word = []\n",
    "for data in data_set[0]:\n",
    "    for i in range(len(data)):\n",
    "        print(data[i])\n",
    "       \n",
    "        #word.append(charArray)"
   ]
  },
  {
   "cell_type": "code",
   "execution_count": 200,
   "metadata": {},
   "outputs": [
    {
     "name": "stdout",
     "output_type": "stream",
     "text": [
      "L\n",
      "o\n",
      "r\n",
      "e\n",
      "m\n",
      " \n",
      "i\n",
      "p\n",
      "s\n",
      "u\n",
      "m\n",
      " \n",
      "d\n",
      "o\n",
      "l\n"
     ]
    }
   ],
   "source": [
    "word = []\n",
    "for data in data_set[0]:\n",
    "    for i in range(len(data)):\n",
    "        print(data[i])\n",
    "       \n",
    "        #word.append(charArray)"
   ]
  },
  {
   "cell_type": "code",
   "execution_count": 200,
   "metadata": {},
   "outputs": [
    {
     "name": "stdout",
     "output_type": "stream",
     "text": [
      "L\n",
      "o\n",
      "r\n",
      "e\n",
      "m\n",
      " \n",
      "i\n",
      "p\n",
      "s\n",
      "u\n",
      "m\n",
      " \n",
      "d\n",
      "o\n",
      "l\n"
     ]
    }
   ],
   "source": [
    "word = []\n",
    "for data in data_set[0]:\n",
    "    for i in range(len(data)):\n",
    "        print(data[i])\n",
    "       \n",
    "        #word.append(charArray)"
   ]
  },
  {
   "cell_type": "code",
   "execution_count": 200,
   "metadata": {},
   "outputs": [
    {
     "name": "stdout",
     "output_type": "stream",
     "text": [
      "L\n",
      "o\n",
      "r\n",
      "e\n",
      "m\n",
      " \n",
      "i\n",
      "p\n",
      "s\n",
      "u\n",
      "m\n",
      " \n",
      "d\n",
      "o\n",
      "l\n"
     ]
    }
   ],
   "source": [
    "word = []\n",
    "for data in data_set[0]:\n",
    "    for i in range(len(data)):\n",
    "        print(data[i])\n",
    "       \n",
    "        #word.append(charArray)"
   ]
  },
  {
   "cell_type": "code",
   "execution_count": 200,
   "metadata": {},
   "outputs": [
    {
     "name": "stdout",
     "output_type": "stream",
     "text": [
      "L\n",
      "o\n",
      "r\n",
      "e\n",
      "m\n",
      " \n",
      "i\n",
      "p\n",
      "s\n",
      "u\n",
      "m\n",
      " \n",
      "d\n",
      "o\n",
      "l\n"
     ]
    }
   ],
   "source": [
    "word = []\n",
    "for data in data_set[0]:\n",
    "    for i in range(len(data)):\n",
    "        print(data[i])\n",
    "       \n",
    "        #word.append(charArray)"
   ]
  },
  {
   "cell_type": "code",
   "execution_count": 200,
   "metadata": {},
   "outputs": [
    {
     "name": "stdout",
     "output_type": "stream",
     "text": [
      "L\n",
      "o\n",
      "r\n",
      "e\n",
      "m\n",
      " \n",
      "i\n",
      "p\n",
      "s\n",
      "u\n",
      "m\n",
      " \n",
      "d\n",
      "o\n",
      "l\n"
     ]
    }
   ],
   "source": [
    "word = []\n",
    "for data in data_set[0]:\n",
    "    for i in range(len(data)):\n",
    "        print(data[i])\n",
    "       \n",
    "        #word.append(charArray)"
   ]
  },
  {
   "cell_type": "code",
   "execution_count": 200,
   "metadata": {},
   "outputs": [
    {
     "name": "stdout",
     "output_type": "stream",
     "text": [
      "L\n",
      "o\n",
      "r\n",
      "e\n",
      "m\n",
      " \n",
      "i\n",
      "p\n",
      "s\n",
      "u\n",
      "m\n",
      " \n",
      "d\n",
      "o\n",
      "l\n"
     ]
    }
   ],
   "source": [
    "word = []\n",
    "for data in data_set[0]:\n",
    "    for i in range(len(data)):\n",
    "        print(data[i])\n",
    "       \n",
    "        #word.append(charArray)"
   ]
  },
  {
   "cell_type": "code",
   "execution_count": 200,
   "metadata": {},
   "outputs": [
    {
     "name": "stdout",
     "output_type": "stream",
     "text": [
      "L\n",
      "o\n",
      "r\n",
      "e\n",
      "m\n",
      " \n",
      "i\n",
      "p\n",
      "s\n",
      "u\n",
      "m\n",
      " \n",
      "d\n",
      "o\n",
      "l\n"
     ]
    }
   ],
   "source": [
    "word = []\n",
    "for data in data_set[0]:\n",
    "    for i in range(len(data)):\n",
    "        print(data[i])\n",
    "       \n",
    "        #word.append(charArray)"
   ]
  },
  {
   "cell_type": "code",
   "execution_count": 200,
   "metadata": {},
   "outputs": [
    {
     "name": "stdout",
     "output_type": "stream",
     "text": [
      "L\n",
      "o\n",
      "r\n",
      "e\n",
      "m\n",
      " \n",
      "i\n",
      "p\n",
      "s\n",
      "u\n",
      "m\n",
      " \n",
      "d\n",
      "o\n",
      "l\n"
     ]
    }
   ],
   "source": [
    "word = []\n",
    "for data in data_set[0]:\n",
    "    for i in range(len(data)):\n",
    "        print(data[i])\n",
    "       \n",
    "        #word.append(charArray)"
   ]
  },
  {
   "cell_type": "code",
   "execution_count": 200,
   "metadata": {},
   "outputs": [
    {
     "name": "stdout",
     "output_type": "stream",
     "text": [
      "L\n",
      "o\n",
      "r\n",
      "e\n",
      "m\n",
      " \n",
      "i\n",
      "p\n",
      "s\n",
      "u\n",
      "m\n",
      " \n",
      "d\n",
      "o\n",
      "l\n"
     ]
    }
   ],
   "source": [
    "word = []\n",
    "for data in data_set[0]:\n",
    "    for i in range(len(data)):\n",
    "        print(data[i])\n",
    "       \n",
    "        #word.append(charArray)"
   ]
  },
  {
   "cell_type": "code",
   "execution_count": 200,
   "metadata": {},
   "outputs": [
    {
     "name": "stdout",
     "output_type": "stream",
     "text": [
      "L\n",
      "o\n",
      "r\n",
      "e\n",
      "m\n",
      " \n",
      "i\n",
      "p\n",
      "s\n",
      "u\n",
      "m\n",
      " \n",
      "d\n",
      "o\n",
      "l\n"
     ]
    }
   ],
   "source": [
    "word = []\n",
    "for data in data_set[0]:\n",
    "    for i in range(len(data)):\n",
    "        print(data[i])\n",
    "       \n",
    "        #word.append(charArray)"
   ]
  },
  {
   "cell_type": "code",
   "execution_count": 200,
   "metadata": {},
   "outputs": [
    {
     "name": "stdout",
     "output_type": "stream",
     "text": [
      "L\n",
      "o\n",
      "r\n",
      "e\n",
      "m\n",
      " \n",
      "i\n",
      "p\n",
      "s\n",
      "u\n",
      "m\n",
      " \n",
      "d\n",
      "o\n",
      "l\n"
     ]
    }
   ],
   "source": [
    "word = []\n",
    "for data in data_set[0]:\n",
    "    for i in range(len(data)):\n",
    "        print(data[i])\n",
    "       \n",
    "        #word.append(charArray)"
   ]
  },
  {
   "cell_type": "code",
   "execution_count": 200,
   "metadata": {},
   "outputs": [
    {
     "name": "stdout",
     "output_type": "stream",
     "text": [
      "L\n",
      "o\n",
      "r\n",
      "e\n",
      "m\n",
      " \n",
      "i\n",
      "p\n",
      "s\n",
      "u\n",
      "m\n",
      " \n",
      "d\n",
      "o\n",
      "l\n"
     ]
    }
   ],
   "source": [
    "word = []\n",
    "for data in data_set[0]:\n",
    "    for i in range(len(data)):\n",
    "        print(data[i])\n",
    "       \n",
    "        #word.append(charArray)"
   ]
  },
  {
   "cell_type": "code",
   "execution_count": 200,
   "metadata": {},
   "outputs": [
    {
     "name": "stdout",
     "output_type": "stream",
     "text": [
      "L\n",
      "o\n",
      "r\n",
      "e\n",
      "m\n",
      " \n",
      "i\n",
      "p\n",
      "s\n",
      "u\n",
      "m\n",
      " \n",
      "d\n",
      "o\n",
      "l\n"
     ]
    }
   ],
   "source": [
    "word = []\n",
    "for data in data_set[0]:\n",
    "    for i in range(len(data)):\n",
    "        print(data[i])\n",
    "       \n",
    "        #word.append(charArray)"
   ]
  },
  {
   "cell_type": "code",
   "execution_count": 200,
   "metadata": {},
   "outputs": [
    {
     "name": "stdout",
     "output_type": "stream",
     "text": [
      "L\n",
      "o\n",
      "r\n",
      "e\n",
      "m\n",
      " \n",
      "i\n",
      "p\n",
      "s\n",
      "u\n",
      "m\n",
      " \n",
      "d\n",
      "o\n",
      "l\n"
     ]
    }
   ],
   "source": [
    "word = []\n",
    "for data in data_set[0]:\n",
    "    for i in range(len(data)):\n",
    "        print(data[i])\n",
    "       \n",
    "        #word.append(charArray)"
   ]
  },
  {
   "cell_type": "code",
   "execution_count": 200,
   "metadata": {},
   "outputs": [
    {
     "name": "stdout",
     "output_type": "stream",
     "text": [
      "L\n",
      "o\n",
      "r\n",
      "e\n",
      "m\n",
      " \n",
      "i\n",
      "p\n",
      "s\n",
      "u\n",
      "m\n",
      " \n",
      "d\n",
      "o\n",
      "l\n"
     ]
    }
   ],
   "source": [
    "word = []\n",
    "for data in data_set[0]:\n",
    "    for i in range(len(data)):\n",
    "        print(data[i])\n",
    "       \n",
    "        #word.append(charArray)"
   ]
  },
  {
   "cell_type": "code",
   "execution_count": 200,
   "metadata": {},
   "outputs": [
    {
     "name": "stdout",
     "output_type": "stream",
     "text": [
      "L\n",
      "o\n",
      "r\n",
      "e\n",
      "m\n",
      " \n",
      "i\n",
      "p\n",
      "s\n",
      "u\n",
      "m\n",
      " \n",
      "d\n",
      "o\n",
      "l\n"
     ]
    }
   ],
   "source": [
    "word = []\n",
    "for data in data_set[0]:\n",
    "    for i in range(len(data)):\n",
    "        print(data[i])\n",
    "       \n",
    "        #word.append(charArray)"
   ]
  },
  {
   "cell_type": "code",
   "execution_count": 200,
   "metadata": {},
   "outputs": [
    {
     "name": "stdout",
     "output_type": "stream",
     "text": [
      "L\n",
      "o\n",
      "r\n",
      "e\n",
      "m\n",
      " \n",
      "i\n",
      "p\n",
      "s\n",
      "u\n",
      "m\n",
      " \n",
      "d\n",
      "o\n",
      "l\n"
     ]
    }
   ],
   "source": [
    "word = []\n",
    "for data in data_set[0]:\n",
    "    for i in range(len(data)):\n",
    "        print(data[i])\n",
    "       \n",
    "        #word.append(charArray)"
   ]
  },
  {
   "cell_type": "code",
   "execution_count": 200,
   "metadata": {},
   "outputs": [
    {
     "name": "stdout",
     "output_type": "stream",
     "text": [
      "L\n",
      "o\n",
      "r\n",
      "e\n",
      "m\n",
      " \n",
      "i\n",
      "p\n",
      "s\n",
      "u\n",
      "m\n",
      " \n",
      "d\n",
      "o\n",
      "l\n"
     ]
    }
   ],
   "source": [
    "word = []\n",
    "for data in data_set[0]:\n",
    "    for i in range(len(data)):\n",
    "        print(data[i])\n",
    "       \n",
    "        #word.append(charArray)"
   ]
  },
  {
   "cell_type": "code",
   "execution_count": 200,
   "metadata": {},
   "outputs": [
    {
     "name": "stdout",
     "output_type": "stream",
     "text": [
      "L\n",
      "o\n",
      "r\n",
      "e\n",
      "m\n",
      " \n",
      "i\n",
      "p\n",
      "s\n",
      "u\n",
      "m\n",
      " \n",
      "d\n",
      "o\n",
      "l\n"
     ]
    }
   ],
   "source": [
    "word = []\n",
    "for data in data_set[0]:\n",
    "    for i in range(len(data)):\n",
    "        print(data[i])\n",
    "       \n",
    "        #word.append(charArray)"
   ]
  },
  {
   "cell_type": "code",
   "execution_count": 200,
   "metadata": {},
   "outputs": [
    {
     "name": "stdout",
     "output_type": "stream",
     "text": [
      "L\n",
      "o\n",
      "r\n",
      "e\n",
      "m\n",
      " \n",
      "i\n",
      "p\n",
      "s\n",
      "u\n",
      "m\n",
      " \n",
      "d\n",
      "o\n",
      "l\n"
     ]
    }
   ],
   "source": [
    "word = []\n",
    "for data in data_set[0]:\n",
    "    for i in range(len(data)):\n",
    "        print(data[i])\n",
    "       \n",
    "        #word.append(charArray)"
   ]
  },
  {
   "cell_type": "code",
   "execution_count": 200,
   "metadata": {},
   "outputs": [
    {
     "name": "stdout",
     "output_type": "stream",
     "text": [
      "L\n",
      "o\n",
      "r\n",
      "e\n",
      "m\n",
      " \n",
      "i\n",
      "p\n",
      "s\n",
      "u\n",
      "m\n",
      " \n",
      "d\n",
      "o\n",
      "l\n"
     ]
    }
   ],
   "source": [
    "word = []\n",
    "for data in data_set[0]:\n",
    "    for i in range(len(data)):\n",
    "        print(data[i])\n",
    "       \n",
    "        #word.append(charArray)"
   ]
  },
  {
   "cell_type": "code",
   "execution_count": 200,
   "metadata": {},
   "outputs": [
    {
     "name": "stdout",
     "output_type": "stream",
     "text": [
      "L\n",
      "o\n",
      "r\n",
      "e\n",
      "m\n",
      " \n",
      "i\n",
      "p\n",
      "s\n",
      "u\n",
      "m\n",
      " \n",
      "d\n",
      "o\n",
      "l\n"
     ]
    }
   ],
   "source": [
    "word = []\n",
    "for data in data_set[0]:\n",
    "    for i in range(len(data)):\n",
    "        print(data[i])\n",
    "       \n",
    "        #word.append(charArray)"
   ]
  },
  {
   "cell_type": "code",
   "execution_count": 200,
   "metadata": {},
   "outputs": [
    {
     "name": "stdout",
     "output_type": "stream",
     "text": [
      "L\n",
      "o\n",
      "r\n",
      "e\n",
      "m\n",
      " \n",
      "i\n",
      "p\n",
      "s\n",
      "u\n",
      "m\n",
      " \n",
      "d\n",
      "o\n",
      "l\n"
     ]
    }
   ],
   "source": [
    "word = []\n",
    "for data in data_set[0]:\n",
    "    for i in range(len(data)):\n",
    "        print(data[i])\n",
    "       \n",
    "        #word.append(charArray)"
   ]
  },
  {
   "cell_type": "code",
   "execution_count": 200,
   "metadata": {},
   "outputs": [
    {
     "name": "stdout",
     "output_type": "stream",
     "text": [
      "L\n",
      "o\n",
      "r\n",
      "e\n",
      "m\n",
      " \n",
      "i\n",
      "p\n",
      "s\n",
      "u\n",
      "m\n",
      " \n",
      "d\n",
      "o\n",
      "l\n"
     ]
    }
   ],
   "source": [
    "word = []\n",
    "for data in data_set[0]:\n",
    "    for i in range(len(data)):\n",
    "        print(data[i])\n",
    "       \n",
    "        #word.append(charArray)"
   ]
  },
  {
   "cell_type": "code",
   "execution_count": 200,
   "metadata": {},
   "outputs": [
    {
     "name": "stdout",
     "output_type": "stream",
     "text": [
      "L\n",
      "o\n",
      "r\n",
      "e\n",
      "m\n",
      " \n",
      "i\n",
      "p\n",
      "s\n",
      "u\n",
      "m\n",
      " \n",
      "d\n",
      "o\n",
      "l\n"
     ]
    }
   ],
   "source": [
    "word = []\n",
    "for data in data_set[0]:\n",
    "    for i in range(len(data)):\n",
    "        print(data[i])\n",
    "       \n",
    "        #word.append(charArray)"
   ]
  },
  {
   "cell_type": "code",
   "execution_count": 200,
   "metadata": {},
   "outputs": [
    {
     "name": "stdout",
     "output_type": "stream",
     "text": [
      "L\n",
      "o\n",
      "r\n",
      "e\n",
      "m\n",
      " \n",
      "i\n",
      "p\n",
      "s\n",
      "u\n",
      "m\n",
      " \n",
      "d\n",
      "o\n",
      "l\n"
     ]
    }
   ],
   "source": [
    "word = []\n",
    "for data in data_set[0]:\n",
    "    for i in range(len(data)):\n",
    "        print(data[i])\n",
    "       \n",
    "        #word.append(charArray)"
   ]
  },
  {
   "cell_type": "code",
   "execution_count": 200,
   "metadata": {},
   "outputs": [
    {
     "name": "stdout",
     "output_type": "stream",
     "text": [
      "L\n",
      "o\n",
      "r\n",
      "e\n",
      "m\n",
      " \n",
      "i\n",
      "p\n",
      "s\n",
      "u\n",
      "m\n",
      " \n",
      "d\n",
      "o\n",
      "l\n"
     ]
    }
   ],
   "source": [
    "word = []\n",
    "for data in data_set[0]:\n",
    "    for i in range(len(data)):\n",
    "        print(data[i])\n",
    "       \n",
    "        #word.append(charArray)"
   ]
  },
  {
   "cell_type": "code",
   "execution_count": 200,
   "metadata": {},
   "outputs": [
    {
     "name": "stdout",
     "output_type": "stream",
     "text": [
      "L\n",
      "o\n",
      "r\n",
      "e\n",
      "m\n",
      " \n",
      "i\n",
      "p\n",
      "s\n",
      "u\n",
      "m\n",
      " \n",
      "d\n",
      "o\n",
      "l\n"
     ]
    }
   ],
   "source": [
    "word = []\n",
    "for data in data_set[0]:\n",
    "    for i in range(len(data)):\n",
    "        print(data[i])\n",
    "       \n",
    "        #word.append(charArray)"
   ]
  },
  {
   "cell_type": "code",
   "execution_count": 200,
   "metadata": {},
   "outputs": [
    {
     "name": "stdout",
     "output_type": "stream",
     "text": [
      "L\n",
      "o\n",
      "r\n",
      "e\n",
      "m\n",
      " \n",
      "i\n",
      "p\n",
      "s\n",
      "u\n",
      "m\n",
      " \n",
      "d\n",
      "o\n",
      "l\n"
     ]
    }
   ],
   "source": [
    "word = []\n",
    "for data in data_set[0]:\n",
    "    for i in range(len(data)):\n",
    "        print(data[i])\n",
    "       \n",
    "        #word.append(charArray)"
   ]
  },
  {
   "cell_type": "code",
   "execution_count": 200,
   "metadata": {},
   "outputs": [
    {
     "name": "stdout",
     "output_type": "stream",
     "text": [
      "L\n",
      "o\n",
      "r\n",
      "e\n",
      "m\n",
      " \n",
      "i\n",
      "p\n",
      "s\n",
      "u\n",
      "m\n",
      " \n",
      "d\n",
      "o\n",
      "l\n"
     ]
    }
   ],
   "source": [
    "word = []\n",
    "for data in data_set[0]:\n",
    "    for i in range(len(data)):\n",
    "        print(data[i])\n",
    "       \n",
    "        #word.append(charArray)"
   ]
  },
  {
   "cell_type": "code",
   "execution_count": 200,
   "metadata": {},
   "outputs": [
    {
     "name": "stdout",
     "output_type": "stream",
     "text": [
      "L\n",
      "o\n",
      "r\n",
      "e\n",
      "m\n",
      " \n",
      "i\n",
      "p\n",
      "s\n",
      "u\n",
      "m\n",
      " \n",
      "d\n",
      "o\n",
      "l\n"
     ]
    }
   ],
   "source": [
    "word = []\n",
    "for data in data_set[0]:\n",
    "    for i in range(len(data)):\n",
    "        print(data[i])\n",
    "       \n",
    "        #word.append(charArray)"
   ]
  },
  {
   "cell_type": "code",
   "execution_count": 200,
   "metadata": {},
   "outputs": [
    {
     "name": "stdout",
     "output_type": "stream",
     "text": [
      "L\n",
      "o\n",
      "r\n",
      "e\n",
      "m\n",
      " \n",
      "i\n",
      "p\n",
      "s\n",
      "u\n",
      "m\n",
      " \n",
      "d\n",
      "o\n",
      "l\n"
     ]
    }
   ],
   "source": [
    "word = []\n",
    "for data in data_set[0]:\n",
    "    for i in range(len(data)):\n",
    "        print(data[i])\n",
    "       \n",
    "        #word.append(charArray)"
   ]
  },
  {
   "cell_type": "code",
   "execution_count": 200,
   "metadata": {},
   "outputs": [
    {
     "name": "stdout",
     "output_type": "stream",
     "text": [
      "L\n",
      "o\n",
      "r\n",
      "e\n",
      "m\n",
      " \n",
      "i\n",
      "p\n",
      "s\n",
      "u\n",
      "m\n",
      " \n",
      "d\n",
      "o\n",
      "l\n"
     ]
    }
   ],
   "source": [
    "word = []\n",
    "for data in data_set[0]:\n",
    "    for i in range(len(data)):\n",
    "        print(data[i])\n",
    "       \n",
    "        #word.append(charArray)"
   ]
  },
  {
   "cell_type": "code",
   "execution_count": 200,
   "metadata": {},
   "outputs": [
    {
     "name": "stdout",
     "output_type": "stream",
     "text": [
      "L\n",
      "o\n",
      "r\n",
      "e\n",
      "m\n",
      " \n",
      "i\n",
      "p\n",
      "s\n",
      "u\n",
      "m\n",
      " \n",
      "d\n",
      "o\n",
      "l\n"
     ]
    }
   ],
   "source": [
    "word = []\n",
    "for data in data_set[0]:\n",
    "    for i in range(len(data)):\n",
    "        print(data[i])\n",
    "       \n",
    "        #word.append(charArray)"
   ]
  },
  {
   "cell_type": "code",
   "execution_count": 200,
   "metadata": {},
   "outputs": [
    {
     "name": "stdout",
     "output_type": "stream",
     "text": [
      "L\n",
      "o\n",
      "r\n",
      "e\n",
      "m\n",
      " \n",
      "i\n",
      "p\n",
      "s\n",
      "u\n",
      "m\n",
      " \n",
      "d\n",
      "o\n",
      "l\n"
     ]
    }
   ],
   "source": [
    "word = []\n",
    "for data in data_set[0]:\n",
    "    for i in range(len(data)):\n",
    "        print(data[i])\n",
    "       \n",
    "        #word.append(charArray)"
   ]
  },
  {
   "cell_type": "code",
   "execution_count": 200,
   "metadata": {},
   "outputs": [
    {
     "name": "stdout",
     "output_type": "stream",
     "text": [
      "L\n",
      "o\n",
      "r\n",
      "e\n",
      "m\n",
      " \n",
      "i\n",
      "p\n",
      "s\n",
      "u\n",
      "m\n",
      " \n",
      "d\n",
      "o\n",
      "l\n"
     ]
    }
   ],
   "source": [
    "word = []\n",
    "for data in data_set[0]:\n",
    "    for i in range(len(data)):\n",
    "        print(data[i])\n",
    "       \n",
    "        #word.append(charArray)"
   ]
  },
  {
   "cell_type": "code",
   "execution_count": 200,
   "metadata": {},
   "outputs": [
    {
     "name": "stdout",
     "output_type": "stream",
     "text": [
      "L\n",
      "o\n",
      "r\n",
      "e\n",
      "m\n",
      " \n",
      "i\n",
      "p\n",
      "s\n",
      "u\n",
      "m\n",
      " \n",
      "d\n",
      "o\n",
      "l\n"
     ]
    }
   ],
   "source": [
    "word = []\n",
    "for data in data_set[0]:\n",
    "    for i in range(len(data)):\n",
    "        print(data[i])\n",
    "       \n",
    "        #word.append(charArray)"
   ]
  },
  {
   "cell_type": "code",
   "execution_count": 200,
   "metadata": {},
   "outputs": [
    {
     "name": "stdout",
     "output_type": "stream",
     "text": [
      "L\n",
      "o\n",
      "r\n",
      "e\n",
      "m\n",
      " \n",
      "i\n",
      "p\n",
      "s\n",
      "u\n",
      "m\n",
      " \n",
      "d\n",
      "o\n",
      "l\n"
     ]
    }
   ],
   "source": [
    "word = []\n",
    "for data in data_set[0]:\n",
    "    for i in range(len(data)):\n",
    "        print(data[i])\n",
    "       \n",
    "        #word.append(charArray)"
   ]
  },
  {
   "cell_type": "code",
   "execution_count": 200,
   "metadata": {},
   "outputs": [
    {
     "name": "stdout",
     "output_type": "stream",
     "text": [
      "L\n",
      "o\n",
      "r\n",
      "e\n",
      "m\n",
      " \n",
      "i\n",
      "p\n",
      "s\n",
      "u\n",
      "m\n",
      " \n",
      "d\n",
      "o\n",
      "l\n"
     ]
    }
   ],
   "source": [
    "word = []\n",
    "for data in data_set[0]:\n",
    "    for i in range(len(data)):\n",
    "        print(data[i])\n",
    "       \n",
    "        #word.append(charArray)"
   ]
  },
  {
   "cell_type": "code",
   "execution_count": 200,
   "metadata": {},
   "outputs": [
    {
     "name": "stdout",
     "output_type": "stream",
     "text": [
      "L\n",
      "o\n",
      "r\n",
      "e\n",
      "m\n",
      " \n",
      "i\n",
      "p\n",
      "s\n",
      "u\n",
      "m\n",
      " \n",
      "d\n",
      "o\n",
      "l\n"
     ]
    }
   ],
   "source": [
    "word = []\n",
    "for data in data_set[0]:\n",
    "    for i in range(len(data)):\n",
    "        print(data[i])\n",
    "       \n",
    "        #word.append(charArray)"
   ]
  },
  {
   "cell_type": "code",
   "execution_count": 200,
   "metadata": {},
   "outputs": [
    {
     "name": "stdout",
     "output_type": "stream",
     "text": [
      "L\n",
      "o\n",
      "r\n",
      "e\n",
      "m\n",
      " \n",
      "i\n",
      "p\n",
      "s\n",
      "u\n",
      "m\n",
      " \n",
      "d\n",
      "o\n",
      "l\n"
     ]
    }
   ],
   "source": [
    "word = []\n",
    "for data in data_set[0]:\n",
    "    for i in range(len(data)):\n",
    "        print(data[i])\n",
    "       \n",
    "        #word.append(charArray)"
   ]
  },
  {
   "cell_type": "code",
   "execution_count": 200,
   "metadata": {},
   "outputs": [
    {
     "name": "stdout",
     "output_type": "stream",
     "text": [
      "L\n",
      "o\n",
      "r\n",
      "e\n",
      "m\n",
      " \n",
      "i\n",
      "p\n",
      "s\n",
      "u\n",
      "m\n",
      " \n",
      "d\n",
      "o\n",
      "l\n"
     ]
    }
   ],
   "source": [
    "word = []\n",
    "for data in data_set[0]:\n",
    "    for i in range(len(data)):\n",
    "        print(data[i])\n",
    "       \n",
    "        #word.append(charArray)"
   ]
  },
  {
   "cell_type": "code",
   "execution_count": 200,
   "metadata": {},
   "outputs": [
    {
     "name": "stdout",
     "output_type": "stream",
     "text": [
      "L\n",
      "o\n",
      "r\n",
      "e\n",
      "m\n",
      " \n",
      "i\n",
      "p\n",
      "s\n",
      "u\n",
      "m\n",
      " \n",
      "d\n",
      "o\n",
      "l\n"
     ]
    }
   ],
   "source": [
    "word = []\n",
    "for data in data_set[0]:\n",
    "    for i in range(len(data)):\n",
    "        print(data[i])\n",
    "       \n",
    "        #word.append(charArray)"
   ]
  },
  {
   "cell_type": "code",
   "execution_count": 200,
   "metadata": {},
   "outputs": [
    {
     "name": "stdout",
     "output_type": "stream",
     "text": [
      "L\n",
      "o\n",
      "r\n",
      "e\n",
      "m\n",
      " \n",
      "i\n",
      "p\n",
      "s\n",
      "u\n",
      "m\n",
      " \n",
      "d\n",
      "o\n",
      "l\n"
     ]
    }
   ],
   "source": [
    "word = []\n",
    "for data in data_set[0]:\n",
    "    for i in range(len(data)):\n",
    "        print(data[i])\n",
    "       \n",
    "        #word.append(charArray)"
   ]
  },
  {
   "cell_type": "code",
   "execution_count": 200,
   "metadata": {},
   "outputs": [
    {
     "name": "stdout",
     "output_type": "stream",
     "text": [
      "L\n",
      "o\n",
      "r\n",
      "e\n",
      "m\n",
      " \n",
      "i\n",
      "p\n",
      "s\n",
      "u\n",
      "m\n",
      " \n",
      "d\n",
      "o\n",
      "l\n"
     ]
    }
   ],
   "source": [
    "word = []\n",
    "for data in data_set[0]:\n",
    "    for i in range(len(data)):\n",
    "        print(data[i])\n",
    "       \n",
    "        #word.append(charArray)"
   ]
  },
  {
   "cell_type": "code",
   "execution_count": 200,
   "metadata": {},
   "outputs": [
    {
     "name": "stdout",
     "output_type": "stream",
     "text": [
      "L\n",
      "o\n",
      "r\n",
      "e\n",
      "m\n",
      " \n",
      "i\n",
      "p\n",
      "s\n",
      "u\n",
      "m\n",
      " \n",
      "d\n",
      "o\n",
      "l\n"
     ]
    }
   ],
   "source": [
    "word = []\n",
    "for data in data_set[0]:\n",
    "    for i in range(len(data)):\n",
    "        print(data[i])\n",
    "       \n",
    "        #word.append(charArray)"
   ]
  },
  {
   "cell_type": "code",
   "execution_count": 200,
   "metadata": {},
   "outputs": [
    {
     "name": "stdout",
     "output_type": "stream",
     "text": [
      "L\n",
      "o\n",
      "r\n",
      "e\n",
      "m\n",
      " \n",
      "i\n",
      "p\n",
      "s\n",
      "u\n",
      "m\n",
      " \n",
      "d\n",
      "o\n",
      "l\n"
     ]
    }
   ],
   "source": [
    "word = []\n",
    "for data in data_set[0]:\n",
    "    for i in range(len(data)):\n",
    "        print(data[i])\n",
    "       \n",
    "        #word.append(charArray)"
   ]
  },
  {
   "cell_type": "code",
   "execution_count": 200,
   "metadata": {},
   "outputs": [
    {
     "name": "stdout",
     "output_type": "stream",
     "text": [
      "L\n",
      "o\n",
      "r\n",
      "e\n",
      "m\n",
      " \n",
      "i\n",
      "p\n",
      "s\n",
      "u\n",
      "m\n",
      " \n",
      "d\n",
      "o\n",
      "l\n"
     ]
    }
   ],
   "source": [
    "word = []\n",
    "for data in data_set[0]:\n",
    "    for i in range(len(data)):\n",
    "        print(data[i])\n",
    "       \n",
    "        #word.append(charArray)"
   ]
  },
  {
   "cell_type": "code",
   "execution_count": 200,
   "metadata": {},
   "outputs": [
    {
     "name": "stdout",
     "output_type": "stream",
     "text": [
      "L\n",
      "o\n",
      "r\n",
      "e\n",
      "m\n",
      " \n",
      "i\n",
      "p\n",
      "s\n",
      "u\n",
      "m\n",
      " \n",
      "d\n",
      "o\n",
      "l\n"
     ]
    }
   ],
   "source": [
    "word = []\n",
    "for data in data_set[0]:\n",
    "    for i in range(len(data)):\n",
    "        print(data[i])\n",
    "       \n",
    "        #word.append(charArray)"
   ]
  },
  {
   "cell_type": "code",
   "execution_count": 200,
   "metadata": {},
   "outputs": [
    {
     "name": "stdout",
     "output_type": "stream",
     "text": [
      "L\n",
      "o\n",
      "r\n",
      "e\n",
      "m\n",
      " \n",
      "i\n",
      "p\n",
      "s\n",
      "u\n",
      "m\n",
      " \n",
      "d\n",
      "o\n",
      "l\n"
     ]
    }
   ],
   "source": [
    "word = []\n",
    "for data in data_set[0]:\n",
    "    for i in range(len(data)):\n",
    "        print(data[i])\n",
    "       \n",
    "        #word.append(charArray)"
   ]
  },
  {
   "cell_type": "code",
   "execution_count": 200,
   "metadata": {},
   "outputs": [
    {
     "name": "stdout",
     "output_type": "stream",
     "text": [
      "L\n",
      "o\n",
      "r\n",
      "e\n",
      "m\n",
      " \n",
      "i\n",
      "p\n",
      "s\n",
      "u\n",
      "m\n",
      " \n",
      "d\n",
      "o\n",
      "l\n"
     ]
    }
   ],
   "source": [
    "word = []\n",
    "for data in data_set[0]:\n",
    "    for i in range(len(data)):\n",
    "        print(data[i])\n",
    "       \n",
    "        #word.append(charArray)"
   ]
  },
  {
   "cell_type": "code",
   "execution_count": 200,
   "metadata": {},
   "outputs": [
    {
     "name": "stdout",
     "output_type": "stream",
     "text": [
      "L\n",
      "o\n",
      "r\n",
      "e\n",
      "m\n",
      " \n",
      "i\n",
      "p\n",
      "s\n",
      "u\n",
      "m\n",
      " \n",
      "d\n",
      "o\n",
      "l\n"
     ]
    }
   ],
   "source": [
    "word = []\n",
    "for data in data_set[0]:\n",
    "    for i in range(len(data)):\n",
    "        print(data[i])\n",
    "       \n",
    "        #word.append(charArray)"
   ]
  },
  {
   "cell_type": "code",
   "execution_count": 200,
   "metadata": {},
   "outputs": [
    {
     "name": "stdout",
     "output_type": "stream",
     "text": [
      "L\n",
      "o\n",
      "r\n",
      "e\n",
      "m\n",
      " \n",
      "i\n",
      "p\n",
      "s\n",
      "u\n",
      "m\n",
      " \n",
      "d\n",
      "o\n",
      "l\n"
     ]
    }
   ],
   "source": [
    "word = []\n",
    "for data in data_set[0]:\n",
    "    for i in range(len(data)):\n",
    "        print(data[i])\n",
    "       \n",
    "        #word.append(charArray)"
   ]
  },
  {
   "cell_type": "code",
   "execution_count": 200,
   "metadata": {},
   "outputs": [
    {
     "name": "stdout",
     "output_type": "stream",
     "text": [
      "L\n",
      "o\n",
      "r\n",
      "e\n",
      "m\n",
      " \n",
      "i\n",
      "p\n",
      "s\n",
      "u\n",
      "m\n",
      " \n",
      "d\n",
      "o\n",
      "l\n"
     ]
    }
   ],
   "source": [
    "word = []\n",
    "for data in data_set[0]:\n",
    "    for i in range(len(data)):\n",
    "        print(data[i])\n",
    "       \n",
    "        #word.append(charArray)"
   ]
  },
  {
   "cell_type": "code",
   "execution_count": 200,
   "metadata": {},
   "outputs": [
    {
     "name": "stdout",
     "output_type": "stream",
     "text": [
      "L\n",
      "o\n",
      "r\n",
      "e\n",
      "m\n",
      " \n",
      "i\n",
      "p\n",
      "s\n",
      "u\n",
      "m\n",
      " \n",
      "d\n",
      "o\n",
      "l\n"
     ]
    }
   ],
   "source": [
    "word = []\n",
    "for data in data_set[0]:\n",
    "    for i in range(len(data)):\n",
    "        print(data[i])\n",
    "       \n",
    "        #word.append(charArray)"
   ]
  },
  {
   "cell_type": "code",
   "execution_count": 200,
   "metadata": {},
   "outputs": [
    {
     "name": "stdout",
     "output_type": "stream",
     "text": [
      "L\n",
      "o\n",
      "r\n",
      "e\n",
      "m\n",
      " \n",
      "i\n",
      "p\n",
      "s\n",
      "u\n",
      "m\n",
      " \n",
      "d\n",
      "o\n",
      "l\n"
     ]
    }
   ],
   "source": [
    "word = []\n",
    "for data in data_set[0]:\n",
    "    for i in range(len(data)):\n",
    "        print(data[i])\n",
    "       \n",
    "        #word.append(charArray)"
   ]
  },
  {
   "cell_type": "code",
   "execution_count": 200,
   "metadata": {},
   "outputs": [
    {
     "name": "stdout",
     "output_type": "stream",
     "text": [
      "L\n",
      "o\n",
      "r\n",
      "e\n",
      "m\n",
      " \n",
      "i\n",
      "p\n",
      "s\n",
      "u\n",
      "m\n",
      " \n",
      "d\n",
      "o\n",
      "l\n"
     ]
    }
   ],
   "source": [
    "word = []\n",
    "for data in data_set[0]:\n",
    "    for i in range(len(data)):\n",
    "        print(data[i])\n",
    "       \n",
    "        #word.append(charArray)"
   ]
  },
  {
   "cell_type": "code",
   "execution_count": 200,
   "metadata": {},
   "outputs": [
    {
     "name": "stdout",
     "output_type": "stream",
     "text": [
      "L\n",
      "o\n",
      "r\n",
      "e\n",
      "m\n",
      " \n",
      "i\n",
      "p\n",
      "s\n",
      "u\n",
      "m\n",
      " \n",
      "d\n",
      "o\n",
      "l\n"
     ]
    }
   ],
   "source": [
    "word = []\n",
    "for data in data_set[0]:\n",
    "    for i in range(len(data)):\n",
    "        print(data[i])       \n",
    "        #word.append(charArray)"
   ]
  },
  {
   "cell_type": "code",
   "execution_count": 200,
   "metadata": {},
   "outputs": [
    {
     "name": "stdout",
     "output_type": "stream",
     "text": [
      "L\n",
      "o\n",
      "r\n",
      "e\n",
      "m\n",
      " \n",
      "i\n",
      "p\n",
      "s\n",
      "u\n",
      "m\n",
      " \n",
      "d\n",
      "o\n",
      "l\n"
     ]
    }
   ],
   "source": [
    "word = []\n",
    "for data in data_set[0]:\n",
    "    for i in range(len(data)):\n",
    "        print(data[i])\n",
    "       \n",
    "        #word.append(charArray)"
   ]
  },
  {
   "cell_type": "code",
   "execution_count": 200,
   "metadata": {},
   "outputs": [
    {
     "name": "stdout",
     "output_type": "stream",
     "text": [
      "L\n",
      "o\n",
      "r\n",
      "e\n",
      "m\n",
      " \n",
      "i\n",
      "p\n",
      "s\n",
      "u\n",
      "m\n",
      " \n",
      "d\n",
      "o\n",
      "l\n"
     ]
    }
   ],
   "source": [
    "word = []\n",
    "for data in data_set[0]:\n",
    "    for i in range(len(data)):\n",
    "        print(data[i])\n",
    "       \n",
    "        #word.append(charArray)"
   ]
  },
  {
   "cell_type": "code",
   "execution_count": 14,
   "metadata": {},
   "outputs": [
    {
     "name": "stdout",
     "output_type": "stream",
     "text": [
      "[<tf.Tensor 'unstack_3:0' shape=(15, 38) dtype=float32>, <tf.Tensor 'unstack_3:1' shape=(15, 38) dtype=float32>, <tf.Tensor 'unstack_3:2' shape=(15, 38) dtype=float32>, <tf.Tensor 'unstack_3:3' shape=(15, 38) dtype=float32>, <tf.Tensor 'unstack_3:4' shape=(15, 38) dtype=float32>, <tf.Tensor 'unstack_3:5' shape=(15, 38) dtype=float32>, <tf.Tensor 'unstack_3:6' shape=(15, 38) dtype=float32>, <tf.Tensor 'unstack_3:7' shape=(15, 38) dtype=float32>, <tf.Tensor 'unstack_3:8' shape=(15, 38) dtype=float32>, <tf.Tensor 'unstack_3:9' shape=(15, 38) dtype=float32>, <tf.Tensor 'unstack_3:10' shape=(15, 38) dtype=float32>, <tf.Tensor 'unstack_3:11' shape=(15, 38) dtype=float32>, <tf.Tensor 'unstack_3:12' shape=(15, 38) dtype=float32>, <tf.Tensor 'unstack_3:13' shape=(15, 38) dtype=float32>, <tf.Tensor 'unstack_3:14' shape=(15, 38) dtype=float32>]\n"
     ]
    }
   ],
   "source": [
    "X = tf.placeholder(name='X', dtype=tf.float32, shape= [None, seq_len, vocab_size])\n",
    "Y = tf.placeholder(name='X', dtype=tf.float32, shape= [None, vocab_size])\n",
    "\n",
    "inpt=tf.unstack(X,seq_len,0)\n",
    "print(inpt)"
   ]
  },
  {
   "cell_type": "code",
   "execution_count": 15,
   "metadata": {},
   "outputs": [
    {
     "name": "stdout",
     "output_type": "stream",
     "text": [
      "(204, 15, 38)\n"
     ]
    }
   ],
   "source": [
    "#word = []\n",
    "#a = np.zeros((38,1))\n",
    "#b = np.zeros((38,1))\n",
    "#a[char_to_idx['a']] = 1\n",
    "#b[char_to_idx['t']] = 1\n",
    "#word.append(a)\n",
    "#word.append(b)\n",
    "#print(word)\n",
    "\n",
    "\n",
    "for data in data_set:\n",
    "    print(data)\n",
    "    for char in data:\n",
    "        charArray = np.zeros((vocab_size,1))\n",
    "        charArray[char_to_ix[char]] = 1\n",
    "        word.append(charArray)\n",
    "final_data_batch = np.array(word)\n",
    "\n",
    "final_data_batch = final_data_batch.reshape(204,seq_len,vocab_size)\n",
    "print(final_data_batch.shape)\n",
    "out_weights=tf.Variable(tf.random_normal([num_hidden_units,vocab_size]))\n",
    "out_bias=tf.Variable(tf.random_normal([vocab_size]))"
   ]
  },
  {
   "cell_type": "code",
   "execution_count": 21,
   "metadata": {},
   "outputs": [],
   "source": [
    "def RNN(x, num_hidden_units):\n",
    "    lstm = rnn.BasicLSTMCell(num_hidden_units)\n",
    "    outputs, _ = tf.nn.dynamic_rnn(lstm, x)\n",
    "    return tf.matmul(outputs, out_weights) + biases['out']"
   ]
  },
  {
   "cell_type": "code",
   "execution_count": 22,
   "metadata": {},
   "outputs": [
    {
     "ename": "ValueError",
     "evalue": "If there is no initial_state, you must give a dtype.",
     "output_type": "error",
     "traceback": [
      "\u001b[0;31m---------------------------------------------------------------------------\u001b[0m",
      "\u001b[0;31mValueError\u001b[0m                                Traceback (most recent call last)",
      "\u001b[0;32m<ipython-input-22-2f8ad2dd4346>\u001b[0m in \u001b[0;36m<module>\u001b[0;34m()\u001b[0m\n\u001b[0;32m----> 1\u001b[0;31m \u001b[0mlogits\u001b[0m \u001b[0;34m=\u001b[0m \u001b[0mRNN\u001b[0m\u001b[0;34m(\u001b[0m\u001b[0mX\u001b[0m\u001b[0;34m,\u001b[0m \u001b[0mnum_hidden_units\u001b[0m\u001b[0;34m)\u001b[0m\u001b[0;34m\u001b[0m\u001b[0m\n\u001b[0m\u001b[1;32m      2\u001b[0m \u001b[0mprediction\u001b[0m \u001b[0;34m=\u001b[0m \u001b[0mtf\u001b[0m\u001b[0;34m.\u001b[0m\u001b[0mnn\u001b[0m\u001b[0;34m.\u001b[0m\u001b[0msoftmax\u001b[0m\u001b[0;34m(\u001b[0m\u001b[0mlogits\u001b[0m\u001b[0;34m)\u001b[0m\u001b[0;34m\u001b[0m\u001b[0m\n",
      "\u001b[0;32m<ipython-input-21-332fbc40fda7>\u001b[0m in \u001b[0;36mRNN\u001b[0;34m(x, num_hidden_units)\u001b[0m\n\u001b[1;32m      1\u001b[0m \u001b[0;32mdef\u001b[0m \u001b[0mRNN\u001b[0m\u001b[0;34m(\u001b[0m\u001b[0mx\u001b[0m\u001b[0;34m,\u001b[0m \u001b[0mnum_hidden_units\u001b[0m\u001b[0;34m)\u001b[0m\u001b[0;34m:\u001b[0m\u001b[0;34m\u001b[0m\u001b[0m\n\u001b[1;32m      2\u001b[0m     \u001b[0mlstm\u001b[0m \u001b[0;34m=\u001b[0m \u001b[0mrnn\u001b[0m\u001b[0;34m.\u001b[0m\u001b[0mBasicLSTMCell\u001b[0m\u001b[0;34m(\u001b[0m\u001b[0mnum_hidden_units\u001b[0m\u001b[0;34m)\u001b[0m\u001b[0;34m\u001b[0m\u001b[0m\n\u001b[0;32m----> 3\u001b[0;31m     \u001b[0moutputs\u001b[0m\u001b[0;34m,\u001b[0m \u001b[0m_\u001b[0m \u001b[0;34m=\u001b[0m \u001b[0mtf\u001b[0m\u001b[0;34m.\u001b[0m\u001b[0mnn\u001b[0m\u001b[0;34m.\u001b[0m\u001b[0mdynamic_rnn\u001b[0m\u001b[0;34m(\u001b[0m\u001b[0mlstm\u001b[0m\u001b[0;34m,\u001b[0m \u001b[0mx\u001b[0m\u001b[0;34m)\u001b[0m\u001b[0;34m\u001b[0m\u001b[0m\n\u001b[0m\u001b[1;32m      4\u001b[0m     \u001b[0;32mreturn\u001b[0m \u001b[0mtf\u001b[0m\u001b[0;34m.\u001b[0m\u001b[0mmatmul\u001b[0m\u001b[0;34m(\u001b[0m\u001b[0moutputs\u001b[0m\u001b[0;34m,\u001b[0m \u001b[0mout_weights\u001b[0m\u001b[0;34m)\u001b[0m \u001b[0;34m+\u001b[0m \u001b[0mbiases\u001b[0m\u001b[0;34m[\u001b[0m\u001b[0;34m'out'\u001b[0m\u001b[0;34m]\u001b[0m\u001b[0;34m\u001b[0m\u001b[0m\n",
      "\u001b[0;32m~/anaconda3/lib/python3.6/site-packages/tensorflow/python/ops/rnn.py\u001b[0m in \u001b[0;36mdynamic_rnn\u001b[0;34m(cell, inputs, sequence_length, initial_state, dtype, parallel_iterations, swap_memory, time_major, scope)\u001b[0m\n\u001b[1;32m    606\u001b[0m     \u001b[0;32melse\u001b[0m\u001b[0;34m:\u001b[0m\u001b[0;34m\u001b[0m\u001b[0m\n\u001b[1;32m    607\u001b[0m       \u001b[0;32mif\u001b[0m \u001b[0;32mnot\u001b[0m \u001b[0mdtype\u001b[0m\u001b[0;34m:\u001b[0m\u001b[0;34m\u001b[0m\u001b[0m\n\u001b[0;32m--> 608\u001b[0;31m         \u001b[0;32mraise\u001b[0m \u001b[0mValueError\u001b[0m\u001b[0;34m(\u001b[0m\u001b[0;34m\"If there is no initial_state, you must give a dtype.\"\u001b[0m\u001b[0;34m)\u001b[0m\u001b[0;34m\u001b[0m\u001b[0m\n\u001b[0m\u001b[1;32m    609\u001b[0m       \u001b[0mstate\u001b[0m \u001b[0;34m=\u001b[0m \u001b[0mcell\u001b[0m\u001b[0;34m.\u001b[0m\u001b[0mzero_state\u001b[0m\u001b[0;34m(\u001b[0m\u001b[0mbatch_size\u001b[0m\u001b[0;34m,\u001b[0m \u001b[0mdtype\u001b[0m\u001b[0;34m)\u001b[0m\u001b[0;34m\u001b[0m\u001b[0m\n\u001b[1;32m    610\u001b[0m \u001b[0;34m\u001b[0m\u001b[0m\n",
      "\u001b[0;31mValueError\u001b[0m: If there is no initial_state, you must give a dtype."
     ]
    }
   ],
   "source": [
    "logits = RNN(X, num_hidden_units)\n",
    "prediction = tf.nn.softmax(logits)"
   ]
  },
  {
   "cell_type": "code",
   "execution_count": 153,
   "metadata": {},
   "outputs": [
    {
     "name": "stdout",
     "output_type": "stream",
     "text": [
      "204.13333333333333\n"
     ]
    }
   ],
   "source": []
  },
  {
   "cell_type": "code",
   "execution_count": 200,
   "metadata": {},
   "outputs": [
    {
     "name": "stdout",
     "output_type": "stream",
     "text": [
      "L\n",
      "o\n",
      "r\n",
      "e\n",
      "m\n",
      " \n",
      "i\n",
      "p\n",
      "s\n",
      "u\n",
      "m\n",
      " \n",
      "d\n",
      "o\n",
      "l\n"
     ]
    }
   ],
   "source": [
    "word = []\n",
    "for data in data_set[0]:\n",
    "    for i in range(len(data)):\n",
    "        print(data[i])\n",
    "       \n",
    "        #word.append(charArray)"
   ]
  },
  {
   "cell_type": "code",
   "execution_count": 200,
   "metadata": {},
   "outputs": [
    {
     "name": "stdout",
     "output_type": "stream",
     "text": [
      "L\n",
      "o\n",
      "r\n",
      "e\n",
      "m\n",
      " \n",
      "i\n",
      "p\n",
      "s\n",
      "u\n",
      "m\n",
      " \n",
      "d\n",
      "o\n",
      "l\n"
     ]
    }
   ],
   "source": [
    "word = []\n",
    "for data in data_set[0]:\n",
    "    for i in range(len(data)):\n",
    "        print(data[i])\n",
    "       \n",
    "        #word.append(charArray)"
   ]
  },
  {
   "cell_type": "code",
   "execution_count": 200,
   "metadata": {},
   "outputs": [
    {
     "name": "stdout",
     "output_type": "stream",
     "text": [
      "L\n",
      "o\n",
      "r\n",
      "e\n",
      "m\n",
      " \n",
      "i\n",
      "p\n",
      "s\n",
      "u\n",
      "m\n",
      " \n",
      "d\n",
      "o\n",
      "l\n"
     ]
    }
   ],
   "source": [
    "word = []\n",
    "for data in data_set[0]:\n",
    "    for i in range(len(data)):\n",
    "        print(data[i])\n",
    "       \n",
    "        #word.append(charArray)"
   ]
  }
 ],
 "metadata": {
  "kernelspec": {
   "display_name": "Python 3",
   "language": "python",
   "name": "python3"
  },
  "language_info": {
   "codemirror_mode": {
    "name": "ipython",
    "version": 3
   },
   "file_extension": ".py",
   "mimetype": "text/x-python",
   "name": "python",
   "nbconvert_exporter": "python",
   "pygments_lexer": "ipython3",
   "version": "3.6.4"
  }
 },
 "nbformat": 4,
 "nbformat_minor": 2
}
