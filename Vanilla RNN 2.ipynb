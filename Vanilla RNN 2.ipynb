{
 "cells": [
  {
   "cell_type": "code",
   "execution_count": 47,
   "metadata": {},
   "outputs": [
    {
     "name": "stdout",
     "output_type": "stream",
     "text": [
      "Extracting tmp/data/train-images-idx3-ubyte.gz\n",
      "Extracting tmp/data/train-labels-idx1-ubyte.gz\n",
      "Extracting tmp/data/t10k-images-idx3-ubyte.gz\n",
      "Extracting tmp/data/t10k-labels-idx1-ubyte.gz\n"
     ]
    }
   ],
   "source": [
    "import tensorflow as tf\n",
    "\n",
    "from tensorflow.examples.tutorials.mnist import input_data\n",
    "mnist = input_data.read_data_sets(\"tmp/data/\", one_hot = True)"
   ]
  },
  {
   "cell_type": "code",
   "execution_count": 4,
   "metadata": {},
   "outputs": [],
   "source": [
    "element_size= 28\n",
    "time_steps = 28\n",
    "num_classes = 10\n",
    "batch_size = 128\n",
    "hidden_layer_size = 128"
   ]
  },
  {
   "cell_type": "code",
   "execution_count": 5,
   "metadata": {
    "scrolled": true
   },
   "outputs": [],
   "source": [
    "LOG_DIR = \"logs/RNN_with_summaries\""
   ]
  },
  {
   "cell_type": "code",
   "execution_count": 6,
   "metadata": {},
   "outputs": [],
   "source": [
    "_inputs = tf.placeholder(tf.float32, shape=[None, time_steps, element_size], name=\"inputs\") # Shape of data is\n",
    "# shape=[None, time_steps, element_size] = (None, 28, 28) 28 time steps of 28 row/column vectors\n",
    "y = tf.placeholder(tf.float32, shape=[None, num_classes], name=\"labels\")"
   ]
  },
  {
   "cell_type": "code",
   "execution_count": 12,
   "metadata": {},
   "outputs": [],
   "source": [
    "batch_x, batch_y = mnist.train.next_batch(batch_size)\n",
    "#print(batch_x.shape) --128 images of 784 pixels\n",
    "#print(batch_y.shape) -- 128 labels of size 10*1\n",
    "batch_x = batch_x.reshape((batch_size, time_steps, element_size)) # reshape above to 128 images of shape 28 * 28"
   ]
  },
  {
   "cell_type": "code",
   "execution_count": 40,
   "metadata": {},
   "outputs": [
    {
     "name": "stdout",
     "output_type": "stream",
     "text": [
      "(?, 28)\n",
      "(28, 128)\n",
      "(128, 128)\n",
      "Tensor(\"states_4/TensorArrayStack/TensorArrayGatherV3:0\", shape=(28, 128, 128), dtype=float32)\n"
     ]
    }
   ],
   "source": [
    "def variable_summaries(var):\n",
    "    with tf.name_scope(\"summaries\"):\n",
    "        mean = tf.reduce_mean(var)\n",
    "        tf.summary.scalar(\"mean\", mean)\n",
    "        with tf.name_scope(\"stddev\"):\n",
    "            stddev = tf.sqrt(tf.reduce_mean(tf.square(var - mean)))\n",
    "        tf.summary.scalar(\"stddev\", stddev)\n",
    "        tf.summary.scalar(\"max\", tf.reduce_max(var))\n",
    "        tf.summary.scalar(\"min\", tf.reduce_min(var))\n",
    "        tf.summary.histogram(\"histogram\", var)\n",
    "        \n",
    "with tf.name_scope('rnn_weights'):\n",
    "    with tf.name_scope(\"W_x\"):\n",
    "        Wx = tf.Variable(tf.zeros([element_size, hidden_layer_size]))\n",
    "        variable_summaries(Wx)\n",
    "    with tf.name_scope(\"W_h\"):\n",
    "        Wh = tf.Variable(tf.zeros([hidden_layer_size, hidden_layer_size]))\n",
    "        variable_summaries(Wh)\n",
    "    with tf.name_scope(\"bias\"):\n",
    "        b_rnn = tf.Variable(tf.zeros([hidden_layer_size]))\n",
    "        variable_summaries(b_rnn)\n",
    "\n",
    "# One step of internal calculation for RNN\n",
    "def rnn_step(previous_hidden_state, x):\n",
    "    # print(x.shape) -- (?,28)\n",
    "    # print(Wx.shape) -- (28, 128)\n",
    "    current_hidden_state = tf.tanh(tf.matmul(previous_hidden_state, Wh) + tf.matmul(x, Wx) + b_rnn) \n",
    "    # print(current_hidden_state.shape) -- (128, 128)\n",
    "    return current_hidden_state\n",
    "\n",
    "processed_input = tf.transpose(_inputs, perm=[1,0,2]) # we transpose here so as to make the input compatible for matmul\n",
    "initial_hidden = tf.zeros([batch_size, hidden_layer_size]) # initial hidden state\n",
    "all_hidden_states = tf.scan(rnn_step, processed_input, initializer = initial_hidden, name = 'states') # This calculates\n",
    "# all the hidden states of the rnn\n",
    "#print(all_hidden_states) -- all_hidden_states contains 28 hidden state each of size (128,128)"
   ]
  },
  {
   "cell_type": "code",
   "execution_count": 42,
   "metadata": {},
   "outputs": [
    {
     "name": "stdout",
     "output_type": "stream",
     "text": [
      "Tensor(\"linear_layer_weights_7/map/TensorArrayStack/TensorArrayGatherV3:0\", shape=(28, 128, 10), dtype=float32)\n",
      "Tensor(\"linear_layer_weights_7/strided_slice:0\", shape=(128, 10), dtype=float32)\n"
     ]
    }
   ],
   "source": [
    "with tf.name_scope(\"linear_layer_weights\") as scope:\n",
    "    with tf.name_scope(\"W_linear\"):\n",
    "        Wl = tf.Variable(tf.truncated_normal([hidden_layer_size,num_classes], mean =0, stddev=0.01))\n",
    "        variable_summaries(Wl)\n",
    "    with tf.name_scope(\"Bias_linear\"):\n",
    "        bl = tf.Variable(tf.truncated_normal([num_classes], mean =0, stddev=0.01))\n",
    "        variable_summaries(bl)\n",
    "    \n",
    "def get_linear_layer(hidden_state):\n",
    "    return tf.matmul(hidden_state, Wl) + bl\n",
    "\n",
    "with tf.name_scope('linear_layer_weights') as scope:\n",
    "    all_outputs = tf.map_fn(get_linear_layer, all_hidden_states)\n",
    "    print(all_outputs) # this returns 28 outputs of shape (128,10) as a result of the get_linear_layer application\n",
    "    output = all_outputs[-1] # we select the last output from the above 28 results\n",
    "    print(output)\n",
    "    tf.summary.histogram('outputs', output)"
   ]
  },
  {
   "cell_type": "code",
   "execution_count": 43,
   "metadata": {},
   "outputs": [
    {
     "name": "stdout",
     "output_type": "stream",
     "text": [
      "Tensor(\"Merge_2/MergeSummary:0\", shape=(), dtype=string)\n"
     ]
    }
   ],
   "source": [
    "# This step performs softmax on the output value \n",
    "with tf.name_scope(\"cross_entropy\"):\n",
    "    cross_entropy = tf.reduce_mean(tf.nn.softmax_cross_entropy_with_logits(logits=output, labels=y))\n",
    "    tf.summary.scalar('cross_entropy', cross_entropy)\n",
    "\n",
    "# We use this step for training \n",
    "with tf.name_scope(\"train\"):\n",
    "    train_step = tf.train.RMSPropOptimizer(0.001, 0.9).minimize(cross_entropy) # performs gradient descent algorithm\n",
    "\n",
    "# find the accuracy\n",
    "with tf.name_scope(\"accuracy\"):\n",
    "    correct_prediction = tf.equal(tf.argmax(y,1), tf.argmax(output,1))\n",
    "    accuracy = (tf.reduce_mean(tf.cast(correct_prediction, tf.float32)))*100\n",
    "    tf.summary.scalar('accuracy', accuracy)\n",
    "    \n",
    "merged = tf.summary.merge_all()\n",
    "print(merged)"
   ]
  },
  {
   "cell_type": "code",
   "execution_count": 32,
   "metadata": {},
   "outputs": [],
   "source": [
    "test_data = mnist.test.images[:batch_size].reshape((-1,time_steps, element_size))\n",
    "test_label = mnist.test.labels[:batch_size]"
   ]
  },
  {
   "cell_type": "code",
   "execution_count": 36,
   "metadata": {},
   "outputs": [
    {
     "name": "stdout",
     "output_type": "stream",
     "text": [
      "Iter 0, Minibatch Loss= 2.302419, Training Accuracy= 10.93750\n",
      "Iter 1000, Minibatch Loss= 1.245614, Training Accuracy= 50.00000\n",
      "Iter 2000, Minibatch Loss= 0.566871, Training Accuracy= 87.50000\n",
      "Iter 3000, Minibatch Loss= 0.326850, Training Accuracy= 89.06250\n",
      "Iter 4000, Minibatch Loss= 0.230052, Training Accuracy= 91.40625\n",
      "Iter 5000, Minibatch Loss= 0.179282, Training Accuracy= 95.31250\n",
      "Iter 6000, Minibatch Loss= 0.018218, Training Accuracy= 100.00000\n",
      "Iter 7000, Minibatch Loss= 0.047549, Training Accuracy= 98.43750\n",
      "Iter 8000, Minibatch Loss= 0.024658, Training Accuracy= 100.00000\n",
      "Iter 9000, Minibatch Loss= 0.018582, Training Accuracy= 100.00000\n",
      "Test Accuracy: 98.4375\n"
     ]
    }
   ],
   "source": [
    "with tf.Session() as sess:\n",
    "    train_writer = tf.summary.FileWriter(LOG_DIR+\"/train\", graph = tf.get_default_graph())\n",
    "    test_writer = tf.summary.FileWriter(LOG_DIR+\"/test\", graph = tf.get_default_graph())\n",
    "    sess.run(tf.global_variables_initializer())\n",
    "    \n",
    "    for i in range(10000):\n",
    "        batch_x, batch_y = mnist.train.next_batch(batch_size)\n",
    "        batch_x = batch_x.reshape((batch_size, time_steps, element_size))\n",
    "        summary, _ = sess.run([merged, train_step], feed_dict = {_inputs:batch_x, y:batch_y})\n",
    "        train_writer.add_summary(summary, i)\n",
    "        \n",
    "        if i%1000 == 0:\n",
    "            acc, loss =  sess.run([accuracy, cross_entropy], feed_dict = {_inputs:batch_x, y:batch_y})\n",
    "            print (\"Iter \" + str(i) + \", Minibatch Loss= \" + \"{:.6f}\".format(loss) + \", Training Accuracy= \" + \"{:.5f}\".format(acc))\n",
    "    \n",
    "        if i % 10:\n",
    "            summary, acc = sess.run([merged, accuracy], feed_dict = {_inputs:batch_x, y:batch_y})\n",
    "            test_writer.add_summary(summary, i)\n",
    "    test_acc = sess.run(accuracy, feed_dict={_inputs: test_data,y: test_label})\n",
    "    print (\"Test Accuracy:\", test_acc)   "
   ]
  },
  {
   "cell_type": "code",
   "execution_count": null,
   "metadata": {},
   "outputs": [],
   "source": []
  }
 ],
 "metadata": {
  "kernelspec": {
   "display_name": "Python 3",
   "language": "python",
   "name": "python3"
  },
  "language_info": {
   "codemirror_mode": {
    "name": "ipython",
    "version": 3
   },
   "file_extension": ".py",
   "mimetype": "text/x-python",
   "name": "python",
   "nbconvert_exporter": "python",
   "pygments_lexer": "ipython3",
   "version": "3.6.4"
  }
 },
 "nbformat": 4,
 "nbformat_minor": 2
}
